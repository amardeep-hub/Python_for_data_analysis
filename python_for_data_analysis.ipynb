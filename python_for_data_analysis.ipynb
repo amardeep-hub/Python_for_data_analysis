{
 "cells": [
  {
   "cell_type": "code",
   "execution_count": 2,
   "metadata": {},
   "outputs": [
    {
     "name": "stdout",
     "output_type": "stream",
     "text": [
      "7\n"
     ]
    }
   ],
   "source": [
    "x = 3\n",
    "y = 4\n",
    "print(x+y)"
   ]
  },
  {
   "cell_type": "code",
   "execution_count": 3,
   "metadata": {},
   "outputs": [],
   "source": [
    "import pandas as pd"
   ]
  },
  {
   "attachments": {},
   "cell_type": "markdown",
   "metadata": {},
   "source": [
    "Numpy\n",
    "First created by Jim Hugunin   \n",
    "only similar type of data we store in array.   \n",
    "array is 50x faster than python list"
   ]
  },
  {
   "cell_type": "code",
   "execution_count": 4,
   "metadata": {},
   "outputs": [
    {
     "name": "stdout",
     "output_type": "stream",
     "text": [
      "[1 2 3 4 5]\n",
      "Second array [1. 2. 3. 4. 5.]\n",
      "print the type of array\n",
      " <class 'numpy.ndarray'>\n",
      "two dimentiaonl array:\n",
      " [[1. 2. 3.]\n",
      " [4. 5. 6.]]\n",
      "first element of first column\n",
      " 1.0\n",
      "second element of first column:\n",
      " 2.0\n",
      "5.0\n",
      "6.0\n"
     ]
    }
   ],
   "source": [
    "import numpy as np \n",
    "arr = np.array([1,2,3,4,5])\n",
    "print(arr)\n",
    "arr2 = np.array([1,2,3,4,5],float) # type of each number inside of the list given by second argument.\n",
    "print(\"Second array\",arr2)\n",
    "print(\"print the type of array\\n\",type(arr))\n",
    "##array can be multidimentional\n",
    "arr2=np.array([[1,2,3],[4,5,6]],float)\n",
    "print(\"two dimentiaonl array:\\n\",arr2)\n",
    "print(\"first element of first column\\n\",arr2[0,0])\n",
    "print(\"second element of first column:\\n\",arr2[0,1]) #element of frst row and second column\n",
    "print(arr2[1,1]) #element of second row and second column\n",
    "print(arr2[1,2]) #element of second row and third column "
   ]
  },
  {
   "cell_type": "code",
   "execution_count": 5,
   "metadata": {},
   "outputs": [
    {
     "name": "stdout",
     "output_type": "stream",
     "text": [
      "[1. 4.]\n",
      "[7.5]\n",
      "[7.5]\n",
      "[7.5]\n",
      "[7.5]\n"
     ]
    }
   ],
   "source": [
    "##Array elements are accessed, sliced and manipulated just like list.\n",
    "a = np.array([1,4,5,7.5],float)\n",
    "print(a[:2]) # slicing first two elments of array.\n",
    "print(a[3:]) # slicing last element of array\n",
    "print(a[-1:]) # slicing last element\n",
    "print(a[3:5])\n",
    "print(a[3:4])"
   ]
  },
  {
   "cell_type": "code",
   "execution_count": 6,
   "metadata": {},
   "outputs": [
    {
     "name": "stdout",
     "output_type": "stream",
     "text": [
      "[[1 2 3]\n",
      " [4 5 6]\n",
      " [7 8 9]]\n",
      "9\n",
      "[1 2 3]\n",
      "[[1 2 3]]\n",
      "[[1 2 3]\n",
      " [4 5 6]]\n",
      "columns\n",
      "[3 6 9]\n",
      "[[2 3]\n",
      " [5 6]\n",
      " [8 9]]\n",
      "Shape of the matrix\n",
      " (3, 3)\n",
      "data type of the matrix int32\n"
     ]
    }
   ],
   "source": [
    "b = np.array([[1,2,3],[4,5,6],[7,8,9]]) # we give list as rows of array\n",
    "print(b)\n",
    "###slicing\n",
    "print(b[2,2]) # element third row and third column\n",
    "print(b[0]) # printing frist row to the 2D matrix\n",
    "print(b[:1])\n",
    "print(b[:2])\n",
    "print(\"columns\")\n",
    "print(b[:,2])\n",
    "print(b[:,[1,2]])\n",
    "print(\"Shape of the matrix\\n\",b.shape)\n",
    "print(\"data type of the matrix\",b.dtype)"
   ]
  },
  {
   "cell_type": "code",
   "execution_count": 7,
   "metadata": {},
   "outputs": [
    {
     "name": "stdout",
     "output_type": "stream",
     "text": [
      "[0 1 2 3 4 5 6 7 8 9]\n",
      "(10,)\n",
      "[[0 1]\n",
      " [2 3]\n",
      " [4 5]\n",
      " [6 7]\n",
      " [8 9]]\n",
      "after reshaping to two dimention the shape is: (5, 2)\n"
     ]
    }
   ],
   "source": [
    "# find an element in array\n",
    "100 in b\n",
    "c= np.array(range(10)) #one dimentional array using range\n",
    "print(c)\n",
    "print(c.shape)\n",
    "#convert one dimention to two dimention array\n",
    "c = c.reshape((5,2)) #using reshape function covert one dimention to two dimention.\n",
    "print(c)\n",
    "print(\"after reshaping to two dimention the shape is:\",c.shape)"
   ]
  },
  {
   "cell_type": "code",
   "execution_count": 8,
   "metadata": {},
   "outputs": [
    {
     "name": "stdout",
     "output_type": "stream",
     "text": [
      "[4. 5. 6.]\n",
      "[4. 5. 6.]\n",
      "[4. 5. 6.]\n",
      "[1. 5. 6.]\n",
      "[1. 5. 6.]\n",
      "[4. 5. 6.]\n"
     ]
    }
   ],
   "source": [
    "a = np.array([4,5,6],float)\n",
    "b = a \n",
    "c = a.copy() # copying before change of first element.\n",
    "print(a)\n",
    "print(b)\n",
    "print(c)\n",
    "a[0]=1\n",
    "print(a)\n",
    "print(b)\n",
    "print(c)"
   ]
  },
  {
   "cell_type": "code",
   "execution_count": 9,
   "metadata": {},
   "outputs": [
    {
     "name": "stdout",
     "output_type": "stream",
     "text": [
      "[10. 20. 30.]\n",
      "[10.0, 20.0, 30.0]\n"
     ]
    }
   ],
   "source": [
    "## Create a list from arra\n",
    "a =np.array([10,20,30],float)\n",
    "print(a)\n",
    "a =a.tolist() # convert array to list\n",
    "print(a) # list is comma seperated"
   ]
  },
  {
   "cell_type": "code",
   "execution_count": 10,
   "metadata": {},
   "outputs": [
    {
     "name": "stdout",
     "output_type": "stream",
     "text": [
      "[10. 20. 30.]\n",
      "b'\\x00\\x00\\x00\\x00\\x00\\x00$@\\x00\\x00\\x00\\x00\\x00\\x004@\\x00\\x00\\x00\\x00\\x00\\x00>@'\n",
      "[10. 20. 30.]\n"
     ]
    }
   ],
   "source": [
    "#convert raw dat into binary\n",
    "a =np.array([10,20,30],float)\n",
    "print(a)\n",
    "b= a.tostring() #convert to string\n",
    "print(b)\n",
    "c=np.frombuffer(b) #what is frombuffer? taking binary to convert to numbers\n",
    "print(c)"
   ]
  },
  {
   "cell_type": "code",
   "execution_count": 11,
   "metadata": {},
   "outputs": [
    {
     "name": "stdout",
     "output_type": "stream",
     "text": [
      "[[10 20 30 40]\n",
      " [40 50 60 70]]\n",
      "[[10 40]\n",
      " [20 50]\n",
      " [30 60]\n",
      " [40 70]]\n"
     ]
    }
   ],
   "source": [
    "##Transpose of the matrix\n",
    "a = np.array([[10,20,30,40],[40,50,60,70]])\n",
    "print(a) ##matrix shape 2 X 4\n",
    "c = a.transpose()\n",
    "print(c) ## matrix shape 4 X 2"
   ]
  },
  {
   "cell_type": "code",
   "execution_count": 12,
   "metadata": {},
   "outputs": [
    {
     "name": "stdout",
     "output_type": "stream",
     "text": [
      "[[10 20 30 40]\n",
      " [40 50 60 70]]\n",
      "[10 20 30 40 40 50 60 70]\n"
     ]
    }
   ],
   "source": [
    "##matrix \n",
    "a = np.array([[10,20,30,40],[40,50,60,70]])\n",
    "print(a)\n",
    "b = a.flatten()\n",
    "print(b) # flatten converts two dimention to one"
   ]
  },
  {
   "cell_type": "code",
   "execution_count": 13,
   "metadata": {},
   "outputs": [
    {
     "data": {
      "text/plain": [
       "array([[1., 1., 1.],\n",
       "       [1., 1., 1.]])"
      ]
     },
     "execution_count": 13,
     "metadata": {},
     "output_type": "execute_result"
    }
   ],
   "source": [
    "# others ways of creating arrays\n",
    "np.arange(6,dtype=int)\n",
    "#zeros and ones\n",
    "np.zeros(10,dtype=float)\n",
    "np.ones((2,3),dtype=float)"
   ]
  },
  {
   "cell_type": "code",
   "execution_count": 14,
   "metadata": {},
   "outputs": [
    {
     "data": {
      "text/plain": [
       "array([[0., 0., 0.],\n",
       "       [0., 0., 0.]])"
      ]
     },
     "execution_count": 14,
     "metadata": {},
     "output_type": "execute_result"
    }
   ],
   "source": [
    "a = np.array([[1,2,3],[2,3,4]],float)\n",
    "np.ones_like(a)\n",
    "np.zeros_like(a)"
   ]
  },
  {
   "cell_type": "code",
   "execution_count": 15,
   "metadata": {},
   "outputs": [
    {
     "data": {
      "text/plain": [
       "array([[1, 0, 0, 0],\n",
       "       [0, 1, 0, 0],\n",
       "       [0, 0, 1, 0],\n",
       "       [0, 0, 0, 1]])"
      ]
     },
     "execution_count": 15,
     "metadata": {},
     "output_type": "execute_result"
    }
   ],
   "source": [
    "##identity matrix is square matrix having diagonals equal to one\n",
    "np.identity(4,dtype=int)"
   ]
  },
  {
   "cell_type": "code",
   "execution_count": 16,
   "metadata": {},
   "outputs": [
    {
     "data": {
      "text/plain": [
       "array([[0, 0, 1, 0, 0, 0],\n",
       "       [0, 0, 0, 1, 0, 0],\n",
       "       [0, 0, 0, 0, 1, 0],\n",
       "       [0, 0, 0, 0, 0, 1],\n",
       "       [0, 0, 0, 0, 0, 0],\n",
       "       [0, 0, 0, 0, 0, 0]])"
      ]
     },
     "execution_count": 16,
     "metadata": {},
     "output_type": "execute_result"
    }
   ],
   "source": [
    "np.eye(4,k=2,dtype=int)\n",
    "np.eye(4,k=-2,dtype=int)\n",
    "np.eye(6,k=2,dtype=int)"
   ]
  },
  {
   "cell_type": "code",
   "execution_count": 17,
   "metadata": {},
   "outputs": [
    {
     "ename": "NameError",
     "evalue": "name 'pirnt' is not defined",
     "output_type": "error",
     "traceback": [
      "\u001b[1;31m---------------------------------------------------------------------------\u001b[0m",
      "\u001b[1;31mNameError\u001b[0m                                 Traceback (most recent call last)",
      "Cell \u001b[1;32mIn[17], line 4\u001b[0m\n\u001b[0;32m      2\u001b[0m a\u001b[39m=\u001b[39mnp\u001b[39m.\u001b[39marray([\u001b[39m1\u001b[39m,\u001b[39m2\u001b[39m,\u001b[39m3\u001b[39m]) \u001b[39m#individual elements of one dimentional array\u001b[39;00m\n\u001b[0;32m      3\u001b[0m b\u001b[39m=\u001b[39mnp\u001b[39m.\u001b[39marray([\u001b[39m5\u001b[39m,\u001b[39m6\u001b[39m,\u001b[39m7\u001b[39m])\n\u001b[1;32m----> 4\u001b[0m pirnt(a\u001b[39m+\u001b[39mb)\n\u001b[0;32m      5\u001b[0m \u001b[39mprint\u001b[39m(b\u001b[39m-\u001b[39ma)\n\u001b[0;32m      6\u001b[0m \u001b[39mprint\u001b[39m(a\u001b[39m*\u001b[39mb)\n",
      "\u001b[1;31mNameError\u001b[0m: name 'pirnt' is not defined"
     ]
    }
   ],
   "source": [
    "##array arithmetic\n",
    "a=np.array([1,2,3]) #individual elements of one dimentional array\n",
    "b=np.array([5,6,7])\n",
    "pirnt(a+b)\n",
    "print(b-a)\n",
    "print(a*b)\n",
    "print(a**b)\n"
   ]
  },
  {
   "cell_type": "code",
   "execution_count": 23,
   "metadata": {},
   "outputs": [
    {
     "name": "stdout",
     "output_type": "stream",
     "text": [
      "[[1 2 3]\n",
      " [4 5 6]]\n",
      "[[1 1 1]\n",
      " [1 1 1]]\n",
      "[[2 3 4]\n",
      " [5 6 7]]\n",
      "[[ 3  3  7]\n",
      " [ 6  6 10]]\n"
     ]
    }
   ],
   "source": [
    "import numpy as np \n",
    "a = np.array([[1,2,3],[4,5,6]])\n",
    "b = np.array([[1,1,1],[1,1,1]])\n",
    "print(\"Matrix\",a)\n",
    "print(\"Matrix\",b)\n",
    "print(a+b)\n",
    "c = np.array([2,1,4])\n",
    "print(a+c)\n",
    "a = np.array([4,9,10])\n",
    "np.sqrt(a)"
   ]
  },
  {
   "cell_type": "code",
   "execution_count": 27,
   "metadata": {},
   "outputs": [
    {
     "name": "stdout",
     "output_type": "stream",
     "text": [
      "[2. 3. 4.]\n",
      "[1. 2. 4.]\n",
      "[1. 2. 4.]\n"
     ]
    }
   ],
   "source": [
    "#ceil, round and floor functions\n",
    "b = np.array([1.1,2.5,4.])\n",
    "print(np.ceil(b)) #ceil \n",
    "print(np.floor(b))\n",
    "print(np.rint(b))"
   ]
  },
  {
   "cell_type": "code",
   "execution_count": 28,
   "metadata": {},
   "outputs": [
    {
     "data": {
      "text/plain": [
       "3.141592653589793"
      ]
     },
     "execution_count": 28,
     "metadata": {},
     "output_type": "execute_result"
    }
   ],
   "source": [
    "np.pi"
   ]
  },
  {
   "cell_type": "code",
   "execution_count": 35,
   "metadata": {},
   "outputs": [
    {
     "name": "stdout",
     "output_type": "stream",
     "text": [
      "7.4\n",
      "21\n"
     ]
    }
   ],
   "source": [
    "b=np.array([1.1,2.5,3.8])\n",
    "sum = 0\n",
    "for x in b:\n",
    "    sum+=x\n",
    "print(sum)\n",
    "# two dimentional arrayb\n",
    "b=np.array([[1,2,3],[4,5,6]])\n",
    "print(b.sum())"
   ]
  },
  {
   "cell_type": "code",
   "execution_count": 54,
   "metadata": {},
   "outputs": [
    {
     "name": "stdout",
     "output_type": "stream",
     "text": [
      "mean of b: 2.0\n",
      "product of b: 6\n",
      "minimum of b: 1\n",
      "maximum of b: 3\n",
      "median of b: 2.0\n",
      "2\n",
      "0\n"
     ]
    }
   ],
   "source": [
    "b=np.array([1,2,3])\n",
    "print(\"mean of b:\", b.mean())\n",
    "print(\"product of b:\", b.prod())\n",
    "print(\"minimum of b:\", b.min())\n",
    "print(\"maximum of b:\", b.max())\n",
    "print(\"median of b:\", np.median(b))\n",
    "print(np.argmax(b))\n",
    "print(np.argmin(b))"
   ]
  },
  {
   "cell_type": "code",
   "execution_count": 60,
   "metadata": {},
   "outputs": [
    {
     "name": "stdout",
     "output_type": "stream",
     "text": [
      "(4, 2)\n",
      "[[1 2]\n",
      " [3 4]\n",
      " [5 6]\n",
      " [7 8]]\n",
      "4.5\n",
      "[1.5 3.5 5.5 7.5]\n",
      "[4. 5.]\n"
     ]
    }
   ],
   "source": [
    "b= np.array([[1,2],[3,4],[5,6],[7,8]])\n",
    "print(b.shape)\n",
    "print(b)\n",
    "print(b.mean())\n",
    "print(b.mean(axis=1))#axis=1 calxualte mean \n",
    "print(b.mean(axis=0)) #axis=0 calculate mea"
   ]
  },
  {
   "cell_type": "code",
   "execution_count": null,
   "metadata": {},
   "outputs": [],
   "source": [
    "a = np.array([])#a.clip operations"
   ]
  },
  {
   "cell_type": "code",
   "execution_count": null,
   "metadata": {},
   "outputs": [],
   "source": [
    "#logical operatons\n",
    "#any and all operations\n",
    "#where funetion\n",
    "#logical_and ,logical_not, logical_or"
   ]
  },
  {
   "cell_type": "code",
   "execution_count": 68,
   "metadata": {},
   "outputs": [
    {
     "name": "stdout",
     "output_type": "stream",
     "text": [
      "[[1 2 3]\n",
      " [4 5 6]\n",
      " [7 8 9]]\n",
      "6.66133814775094e-16\n",
      "6.66133814775094e-16\n"
     ]
    }
   ],
   "source": [
    "#Linear algebra\n",
    "a = np.array([[1,2,3],[4,5,6],[7,8,9]])\n",
    "# a = np.array([[1,1,1],[1,1,1],[1,1,1]],int)\n",
    "print(a)\n",
    "c = np.linalg.det(a) #determinant of matrix\n",
    "print(c)\n",
    "print(np.linalg.det(a))"
   ]
  },
  {
   "cell_type": "code",
   "execution_count": 74,
   "metadata": {},
   "outputs": [
    {
     "name": "stdout",
     "output_type": "stream",
     "text": [
      "[ 1.61168440e+01 -1.11684397e+00 -1.30367773e-15]\n",
      "[[-0.23197069 -0.78583024  0.40824829]\n",
      " [-0.52532209 -0.08675134 -0.81649658]\n",
      " [-0.8186735   0.61232756  0.40824829]]\n",
      "[[-4.50359963e+15  9.00719925e+15 -4.50359963e+15]\n",
      " [ 9.00719925e+15 -1.80143985e+16  9.00719925e+15]\n",
      " [-4.50359963e+15  9.00719925e+15 -4.50359963e+15]]\n"
     ]
    }
   ],
   "source": [
    "#calculate eigen values\n",
    "vals,veds=np.linalg.eig(a)\n",
    "print(vals)\n",
    "print(veds)\n",
    "#inverse of a Matrix\n",
    "inverse = np.linalg.inv(a)\n",
    "print(inverse)"
   ]
  },
  {
   "cell_type": "code",
   "execution_count": null,
   "metadata": {},
   "outputs": [],
   "source": [
    "c = np.poly1d(a,b)"
   ]
  },
  {
   "cell_type": "code",
   "execution_count": 80,
   "metadata": {},
   "outputs": [
    {
     "name": "stdout",
     "output_type": "stream",
     "text": [
      "Series a:\n",
      " 0    12\n",
      "1    -5\n",
      "2     8\n",
      "3     9\n",
      "4     6\n",
      "dtype: int64\n",
      "values:\n",
      " [12 -5  8  9  6]\n",
      "index: \n",
      " RangeIndex(start=0, stop=5, step=1)\n"
     ]
    }
   ],
   "source": [
    "#####Pandas#############\n",
    "#Series\n",
    "import pandas as pd\n",
    "a = pd.Series([12,-5,8,9,6])\n",
    "print(\"Series a:\\n\", a)\n",
    "print(\"values:\\n\", a.values)\n",
    "print(\"index: \\n\",a.index)"
   ]
  },
  {
   "cell_type": "code",
   "execution_count": 86,
   "metadata": {},
   "outputs": [
    {
     "data": {
      "text/plain": [
       "-5"
      ]
     },
     "execution_count": 86,
     "metadata": {},
     "output_type": "execute_result"
    }
   ],
   "source": [
    "a[1]"
   ]
  },
  {
   "cell_type": "code",
   "execution_count": 90,
   "metadata": {},
   "outputs": [
    {
     "name": "stdout",
     "output_type": "stream",
     "text": [
      "a    12\n",
      "b    -5\n",
      "c     8\n",
      "d     9\n",
      "e     6\n",
      "dtype: int64\n",
      "values:\n",
      " [12 -5  8  9  6]\n",
      "a    12\n",
      "b    -5\n",
      "d     9\n",
      "dtype: int64\n",
      "values greater than 6:\n",
      " a    12\n",
      "c     8\n",
      "d     9\n",
      "dtype: int64\n",
      "adding 2 to series b\n",
      " a    14\n",
      "b    -3\n",
      "c    10\n",
      "d    11\n",
      "e     8\n",
      "dtype: int64\n"
     ]
    }
   ],
   "source": [
    "b= pd.Series([12,-5,8,9,6],index=['a','b','c','d','e'])\n",
    "print(b)\n",
    "print(\"values:\\n\",b.values)\n",
    "print(b[['a','b','d']])\n",
    "#querying based on conditon\n",
    "c = b[b>6]\n",
    "print(\"values greater than 6:\\n\",c)\n",
    "print(\"adding 2 to series b\\n\",b+2)"
   ]
  },
  {
   "cell_type": "code",
   "execution_count": 91,
   "metadata": {},
   "outputs": [
    {
     "data": {
      "text/plain": [
       "a    144\n",
       "b     25\n",
       "c     64\n",
       "d     81\n",
       "e     36\n",
       "dtype: int64"
      ]
     },
     "execution_count": 91,
     "metadata": {},
     "output_type": "execute_result"
    }
   ],
   "source": [
    "b**2"
   ]
  },
  {
   "cell_type": "code",
   "execution_count": 93,
   "metadata": {},
   "outputs": [
    {
     "name": "stdout",
     "output_type": "stream",
     "text": [
      "1    Sun\n",
      "2    Mon\n",
      "3    Tue\n",
      "4    Wed\n",
      "5    Thu\n",
      "6    Fri\n",
      "dtype: object\n",
      "0    NaN\n",
      "1    Sun\n",
      "2    Mon\n",
      "3    Tue\n",
      "4    Wed\n",
      "5    Thu\n",
      "dtype: object\n"
     ]
    }
   ],
   "source": [
    "##Dataframe\n",
    "#dictionary\n",
    "c={1:\"Sun\",2:'Mon',3:'Tue',4:'Wed',5:'Thu',6:'Fri'}\n",
    "ob=pd.Series(c)\n",
    "print(ob)\n",
    "week = [0,1,2,3,4,5]\n",
    "ob1=pd.Series(c,index=week)\n",
    "print(ob1)"
   ]
  },
  {
   "cell_type": "code",
   "execution_count": 94,
   "metadata": {},
   "outputs": [
    {
     "data": {
      "text/plain": [
       "0     True\n",
       "1    False\n",
       "2    False\n",
       "3    False\n",
       "4    False\n",
       "5    False\n",
       "dtype: bool"
      ]
     },
     "execution_count": 94,
     "metadata": {},
     "output_type": "execute_result"
    }
   ],
   "source": [
    "pd.isnull(ob1)"
   ]
  },
  {
   "cell_type": "code",
   "execution_count": 95,
   "metadata": {},
   "outputs": [
    {
     "data": {
      "text/plain": [
       "0    False\n",
       "1     True\n",
       "2     True\n",
       "3     True\n",
       "4     True\n",
       "5     True\n",
       "dtype: bool"
      ]
     },
     "execution_count": 95,
     "metadata": {},
     "output_type": "execute_result"
    }
   ],
   "source": [
    "pd.notnull(ob1)"
   ]
  },
  {
   "cell_type": "code",
   "execution_count": 98,
   "metadata": {},
   "outputs": [
    {
     "name": "stdout",
     "output_type": "stream",
     "text": [
      "a    0\n",
      "b    1\n",
      "c    2\n",
      "d    3\n",
      "e    4\n",
      "dtype: int32\n",
      "a    0\n",
      "b    1\n",
      "d    3\n",
      "e    4\n",
      "dtype: int32\n",
      "b    1\n",
      "c    2\n",
      "e    4\n",
      "dtype: int32\n"
     ]
    }
   ],
   "source": [
    "import numpy as np\n",
    "ob3= pd.Series(np.arange(5),index=['a','b','c','d','e'])\n",
    "print(ob3)\n",
    "#drop \n",
    "ob4 = ob3.drop('c')\n",
    "print(ob4)\n",
    "newobj1=ob3.drop(['a','d'])\n",
    "print(newobj1)"
   ]
  },
  {
   "cell_type": "code",
   "execution_count": 102,
   "metadata": {},
   "outputs": [
    {
     "data": {
      "text/html": [
       "<div>\n",
       "<style scoped>\n",
       "    .dataframe tbody tr th:only-of-type {\n",
       "        vertical-align: middle;\n",
       "    }\n",
       "\n",
       "    .dataframe tbody tr th {\n",
       "        vertical-align: top;\n",
       "    }\n",
       "\n",
       "    .dataframe thead th {\n",
       "        text-align: right;\n",
       "    }\n",
       "</style>\n",
       "<table border=\"1\" class=\"dataframe\">\n",
       "  <thead>\n",
       "    <tr style=\"text-align: right;\">\n",
       "      <th></th>\n",
       "      <th>Empno</th>\n",
       "      <th>Ename</th>\n",
       "      <th>Sal</th>\n",
       "    </tr>\n",
       "  </thead>\n",
       "  <tbody>\n",
       "    <tr>\n",
       "      <th>0</th>\n",
       "      <td>10</td>\n",
       "      <td>Arun</td>\n",
       "      <td>11000</td>\n",
       "    </tr>\n",
       "    <tr>\n",
       "      <th>1</th>\n",
       "      <td>20</td>\n",
       "      <td>Rao</td>\n",
       "      <td>15000</td>\n",
       "    </tr>\n",
       "    <tr>\n",
       "      <th>2</th>\n",
       "      <td>30</td>\n",
       "      <td>Wankar</td>\n",
       "      <td>13000</td>\n",
       "    </tr>\n",
       "    <tr>\n",
       "      <th>3</th>\n",
       "      <td>40</td>\n",
       "      <td>Durga</td>\n",
       "      <td>18000</td>\n",
       "    </tr>\n",
       "  </tbody>\n",
       "</table>\n",
       "</div>"
      ],
      "text/plain": [
       "   Empno   Ename    Sal\n",
       "0     10    Arun  11000\n",
       "1     20     Rao  15000\n",
       "2     30  Wankar  13000\n",
       "3     40   Durga  18000"
      ]
     },
     "execution_count": 102,
     "metadata": {},
     "output_type": "execute_result"
    }
   ],
   "source": [
    "###Dataframe\n",
    "data={'Empno':[10,20,30,40],'Ename':['Arun','Rao',\"Wankar\",\"Durga\"],\"Sal\":[11000,15000,13000,18000]}\n",
    "frame=pd.DataFrame(data)\n",
    "frame"
   ]
  },
  {
   "cell_type": "code",
   "execution_count": 107,
   "metadata": {},
   "outputs": [
    {
     "data": {
      "text/html": [
       "<div>\n",
       "<style scoped>\n",
       "    .dataframe tbody tr th:only-of-type {\n",
       "        vertical-align: middle;\n",
       "    }\n",
       "\n",
       "    .dataframe tbody tr th {\n",
       "        vertical-align: top;\n",
       "    }\n",
       "\n",
       "    .dataframe thead th {\n",
       "        text-align: right;\n",
       "    }\n",
       "</style>\n",
       "<table border=\"1\" class=\"dataframe\">\n",
       "  <thead>\n",
       "    <tr style=\"text-align: right;\">\n",
       "      <th></th>\n",
       "      <th>Ename</th>\n",
       "      <th>Sal</th>\n",
       "    </tr>\n",
       "  </thead>\n",
       "  <tbody>\n",
       "    <tr>\n",
       "      <th>0</th>\n",
       "      <td>Arun</td>\n",
       "      <td>11000</td>\n",
       "    </tr>\n",
       "    <tr>\n",
       "      <th>1</th>\n",
       "      <td>Rao</td>\n",
       "      <td>15000</td>\n",
       "    </tr>\n",
       "    <tr>\n",
       "      <th>2</th>\n",
       "      <td>Wankar</td>\n",
       "      <td>13000</td>\n",
       "    </tr>\n",
       "    <tr>\n",
       "      <th>3</th>\n",
       "      <td>Durga</td>\n",
       "      <td>18000</td>\n",
       "    </tr>\n",
       "  </tbody>\n",
       "</table>\n",
       "</div>"
      ],
      "text/plain": [
       "    Ename    Sal\n",
       "0    Arun  11000\n",
       "1     Rao  15000\n",
       "2  Wankar  13000\n",
       "3   Durga  18000"
      ]
     },
     "execution_count": 107,
     "metadata": {},
     "output_type": "execute_result"
    }
   ],
   "source": [
    "#querying the dataframe\n",
    "frame.Empno\n",
    "frame[\"Empno\"]\n",
    "frame[['Ename','Sal']]"
   ]
  },
  {
   "cell_type": "code",
   "execution_count": 108,
   "metadata": {},
   "outputs": [
    {
     "data": {
      "text/plain": [
       "(0      Arun\n",
       " 1       Rao\n",
       " 2    Wankar\n",
       " 3     Durga\n",
       " Name: Ename, dtype: object,\n",
       " 0    11000\n",
       " 1    15000\n",
       " 2    13000\n",
       " 3    18000\n",
       " Name: Sal, dtype: int64)"
      ]
     },
     "execution_count": 108,
     "metadata": {},
     "output_type": "execute_result"
    }
   ],
   "source": [
    "frame.Ename, frame.Sal"
   ]
  },
  {
   "cell_type": "code",
   "execution_count": 109,
   "metadata": {},
   "outputs": [
    {
     "data": {
      "text/plain": [
       "Empno       20\n",
       "Ename      Rao\n",
       "Sal      15000\n",
       "Name: 1, dtype: object"
      ]
     },
     "execution_count": 109,
     "metadata": {},
     "output_type": "execute_result"
    }
   ],
   "source": [
    "frame.iloc[1]"
   ]
  },
  {
   "cell_type": "code",
   "execution_count": 110,
   "metadata": {},
   "outputs": [
    {
     "data": {
      "text/plain": [
       "Index(['Empno', 'Ename', 'Sal'], dtype='object')"
      ]
     },
     "execution_count": 110,
     "metadata": {},
     "output_type": "execute_result"
    }
   ],
   "source": [
    "frame.columns"
   ]
  },
  {
   "cell_type": "code",
   "execution_count": 111,
   "metadata": {},
   "outputs": [
    {
     "data": {
      "text/html": [
       "<div>\n",
       "<style scoped>\n",
       "    .dataframe tbody tr th:only-of-type {\n",
       "        vertical-align: middle;\n",
       "    }\n",
       "\n",
       "    .dataframe tbody tr th {\n",
       "        vertical-align: top;\n",
       "    }\n",
       "\n",
       "    .dataframe thead th {\n",
       "        text-align: right;\n",
       "    }\n",
       "</style>\n",
       "<table border=\"1\" class=\"dataframe\">\n",
       "  <thead>\n",
       "    <tr style=\"text-align: right;\">\n",
       "      <th></th>\n",
       "      <th>Empno</th>\n",
       "      <th>Ename</th>\n",
       "      <th>Sal</th>\n",
       "    </tr>\n",
       "  </thead>\n",
       "  <tbody>\n",
       "    <tr>\n",
       "      <th>1</th>\n",
       "      <td>20</td>\n",
       "      <td>Rao</td>\n",
       "      <td>15000</td>\n",
       "    </tr>\n",
       "    <tr>\n",
       "      <th>2</th>\n",
       "      <td>30</td>\n",
       "      <td>Wankar</td>\n",
       "      <td>13000</td>\n",
       "    </tr>\n",
       "    <tr>\n",
       "      <th>3</th>\n",
       "      <td>40</td>\n",
       "      <td>Durga</td>\n",
       "      <td>18000</td>\n",
       "    </tr>\n",
       "  </tbody>\n",
       "</table>\n",
       "</div>"
      ],
      "text/plain": [
       "   Empno   Ename    Sal\n",
       "1     20     Rao  15000\n",
       "2     30  Wankar  13000\n",
       "3     40   Durga  18000"
      ]
     },
     "execution_count": 111,
     "metadata": {},
     "output_type": "execute_result"
    }
   ],
   "source": [
    "frame[frame.Sal>12000]"
   ]
  },
  {
   "cell_type": "code",
   "execution_count": 113,
   "metadata": {},
   "outputs": [
    {
     "data": {
      "text/html": [
       "<div>\n",
       "<style scoped>\n",
       "    .dataframe tbody tr th:only-of-type {\n",
       "        vertical-align: middle;\n",
       "    }\n",
       "\n",
       "    .dataframe tbody tr th {\n",
       "        vertical-align: top;\n",
       "    }\n",
       "\n",
       "    .dataframe thead th {\n",
       "        text-align: right;\n",
       "    }\n",
       "</style>\n",
       "<table border=\"1\" class=\"dataframe\">\n",
       "  <thead>\n",
       "    <tr style=\"text-align: right;\">\n",
       "      <th></th>\n",
       "      <th>Empno</th>\n",
       "      <th>Ename</th>\n",
       "      <th>Sal</th>\n",
       "    </tr>\n",
       "  </thead>\n",
       "  <tbody>\n",
       "    <tr>\n",
       "      <th>1</th>\n",
       "      <td>20</td>\n",
       "      <td>Rao</td>\n",
       "      <td>15000</td>\n",
       "    </tr>\n",
       "    <tr>\n",
       "      <th>2</th>\n",
       "      <td>30</td>\n",
       "      <td>Wankar</td>\n",
       "      <td>13000</td>\n",
       "    </tr>\n",
       "  </tbody>\n",
       "</table>\n",
       "</div>"
      ],
      "text/plain": [
       "   Empno   Ename    Sal\n",
       "1     20     Rao  15000\n",
       "2     30  Wankar  13000"
      ]
     },
     "execution_count": 113,
     "metadata": {},
     "output_type": "execute_result"
    }
   ],
   "source": [
    "frame.query('Sal>12000 and Sal<=17000')#Display employee details whose salary is between 12000 to 17000"
   ]
  },
  {
   "cell_type": "code",
   "execution_count": 118,
   "metadata": {},
   "outputs": [
    {
     "data": {
      "text/html": [
       "<div>\n",
       "<style scoped>\n",
       "    .dataframe tbody tr th:only-of-type {\n",
       "        vertical-align: middle;\n",
       "    }\n",
       "\n",
       "    .dataframe tbody tr th {\n",
       "        vertical-align: top;\n",
       "    }\n",
       "\n",
       "    .dataframe thead th {\n",
       "        text-align: right;\n",
       "    }\n",
       "</style>\n",
       "<table border=\"1\" class=\"dataframe\">\n",
       "  <thead>\n",
       "    <tr style=\"text-align: right;\">\n",
       "      <th></th>\n",
       "      <th>Empno</th>\n",
       "      <th>Ename</th>\n",
       "      <th>Sal</th>\n",
       "      <th>Deptno</th>\n",
       "    </tr>\n",
       "  </thead>\n",
       "  <tbody>\n",
       "    <tr>\n",
       "      <th>0</th>\n",
       "      <td>10</td>\n",
       "      <td>Arun</td>\n",
       "      <td>11000</td>\n",
       "      <td>NaN</td>\n",
       "    </tr>\n",
       "    <tr>\n",
       "      <th>1</th>\n",
       "      <td>20</td>\n",
       "      <td>Rao</td>\n",
       "      <td>15000</td>\n",
       "      <td>NaN</td>\n",
       "    </tr>\n",
       "    <tr>\n",
       "      <th>2</th>\n",
       "      <td>30</td>\n",
       "      <td>Wankar</td>\n",
       "      <td>13000</td>\n",
       "      <td>NaN</td>\n",
       "    </tr>\n",
       "    <tr>\n",
       "      <th>3</th>\n",
       "      <td>40</td>\n",
       "      <td>Durga</td>\n",
       "      <td>18000</td>\n",
       "      <td>NaN</td>\n",
       "    </tr>\n",
       "  </tbody>\n",
       "</table>\n",
       "</div>"
      ],
      "text/plain": [
       "   Empno   Ename    Sal Deptno\n",
       "0     10    Arun  11000    NaN\n",
       "1     20     Rao  15000    NaN\n",
       "2     30  Wankar  13000    NaN\n",
       "3     40   Durga  18000    NaN"
      ]
     },
     "execution_count": 118,
     "metadata": {},
     "output_type": "execute_result"
    }
   ],
   "source": [
    "Emp = pd.DataFrame(data,columns=['Empno','Ename','Sal','Deptno'])\n",
    "Emp"
   ]
  },
  {
   "cell_type": "code",
   "execution_count": 119,
   "metadata": {},
   "outputs": [
    {
     "data": {
      "text/html": [
       "<div>\n",
       "<style scoped>\n",
       "    .dataframe tbody tr th:only-of-type {\n",
       "        vertical-align: middle;\n",
       "    }\n",
       "\n",
       "    .dataframe tbody tr th {\n",
       "        vertical-align: top;\n",
       "    }\n",
       "\n",
       "    .dataframe thead th {\n",
       "        text-align: right;\n",
       "    }\n",
       "</style>\n",
       "<table border=\"1\" class=\"dataframe\">\n",
       "  <thead>\n",
       "    <tr style=\"text-align: right;\">\n",
       "      <th></th>\n",
       "      <th>Empno</th>\n",
       "      <th>Ename</th>\n",
       "      <th>Sal</th>\n",
       "      <th>Deptno</th>\n",
       "    </tr>\n",
       "  </thead>\n",
       "  <tbody>\n",
       "    <tr>\n",
       "      <th>0</th>\n",
       "      <td>10</td>\n",
       "      <td>Arun</td>\n",
       "      <td>11000</td>\n",
       "      <td>10</td>\n",
       "    </tr>\n",
       "    <tr>\n",
       "      <th>1</th>\n",
       "      <td>20</td>\n",
       "      <td>Rao</td>\n",
       "      <td>15000</td>\n",
       "      <td>10</td>\n",
       "    </tr>\n",
       "    <tr>\n",
       "      <th>2</th>\n",
       "      <td>30</td>\n",
       "      <td>Wankar</td>\n",
       "      <td>13000</td>\n",
       "      <td>25</td>\n",
       "    </tr>\n",
       "    <tr>\n",
       "      <th>3</th>\n",
       "      <td>40</td>\n",
       "      <td>Durga</td>\n",
       "      <td>18000</td>\n",
       "      <td>10</td>\n",
       "    </tr>\n",
       "  </tbody>\n",
       "</table>\n",
       "</div>"
      ],
      "text/plain": [
       "   Empno   Ename    Sal  Deptno\n",
       "0     10    Arun  11000      10\n",
       "1     20     Rao  15000      10\n",
       "2     30  Wankar  13000      25\n",
       "3     40   Durga  18000      10"
      ]
     },
     "execution_count": 119,
     "metadata": {},
     "output_type": "execute_result"
    }
   ],
   "source": [
    "Emp.Deptno=10\n",
    "Emp\n",
    "Emp.at[2,'Deptno']=25\n",
    "Emp"
   ]
  },
  {
   "cell_type": "code",
   "execution_count": 120,
   "metadata": {},
   "outputs": [
    {
     "data": {
      "text/plain": [
       "array([[10, 'Arun', 11000, 10],\n",
       "       [20, 'Rao', 15000, 10],\n",
       "       [30, 'Wankar', 13000, 25],\n",
       "       [40, 'Durga', 18000, 10]], dtype=object)"
      ]
     },
     "execution_count": 120,
     "metadata": {},
     "output_type": "execute_result"
    }
   ],
   "source": [
    "Emp.values"
   ]
  },
  {
   "cell_type": "code",
   "execution_count": 122,
   "metadata": {},
   "outputs": [
    {
     "data": {
      "text/html": [
       "<div>\n",
       "<style scoped>\n",
       "    .dataframe tbody tr th:only-of-type {\n",
       "        vertical-align: middle;\n",
       "    }\n",
       "\n",
       "    .dataframe tbody tr th {\n",
       "        vertical-align: top;\n",
       "    }\n",
       "\n",
       "    .dataframe thead th {\n",
       "        text-align: right;\n",
       "    }\n",
       "</style>\n",
       "<table border=\"1\" class=\"dataframe\">\n",
       "  <thead>\n",
       "    <tr style=\"text-align: right;\">\n",
       "      <th></th>\n",
       "      <th>0</th>\n",
       "      <th>1</th>\n",
       "      <th>2</th>\n",
       "      <th>3</th>\n",
       "    </tr>\n",
       "  </thead>\n",
       "  <tbody>\n",
       "    <tr>\n",
       "      <th>Empno</th>\n",
       "      <td>10</td>\n",
       "      <td>20</td>\n",
       "      <td>30</td>\n",
       "      <td>40</td>\n",
       "    </tr>\n",
       "    <tr>\n",
       "      <th>Ename</th>\n",
       "      <td>Arun</td>\n",
       "      <td>Rao</td>\n",
       "      <td>Wankar</td>\n",
       "      <td>Durga</td>\n",
       "    </tr>\n",
       "    <tr>\n",
       "      <th>Sal</th>\n",
       "      <td>11000</td>\n",
       "      <td>15000</td>\n",
       "      <td>13000</td>\n",
       "      <td>18000</td>\n",
       "    </tr>\n",
       "    <tr>\n",
       "      <th>Deptno</th>\n",
       "      <td>10</td>\n",
       "      <td>10</td>\n",
       "      <td>25</td>\n",
       "      <td>10</td>\n",
       "    </tr>\n",
       "  </tbody>\n",
       "</table>\n",
       "</div>"
      ],
      "text/plain": [
       "            0      1       2      3\n",
       "Empno      10     20      30     40\n",
       "Ename    Arun    Rao  Wankar  Durga\n",
       "Sal     11000  15000   13000  18000\n",
       "Deptno     10     10      25     10"
      ]
     },
     "execution_count": 122,
     "metadata": {},
     "output_type": "execute_result"
    }
   ],
   "source": [
    "Emp.T #Transpose of the data"
   ]
  },
  {
   "cell_type": "code",
   "execution_count": 123,
   "metadata": {},
   "outputs": [
    {
     "data": {
      "text/plain": [
       "False"
      ]
     },
     "execution_count": 123,
     "metadata": {},
     "output_type": "execute_result"
    }
   ],
   "source": [
    "'Salman' in Emp.values #for rows"
   ]
  },
  {
   "cell_type": "code",
   "execution_count": 124,
   "metadata": {},
   "outputs": [
    {
     "data": {
      "text/plain": [
       "True"
      ]
     },
     "execution_count": 124,
     "metadata": {},
     "output_type": "execute_result"
    }
   ],
   "source": [
    "'Sal' in Emp.columns"
   ]
  },
  {
   "cell_type": "code",
   "execution_count": 127,
   "metadata": {},
   "outputs": [
    {
     "ename": "SyntaxError",
     "evalue": "invalid syntax (792501582.py, line 2)",
     "output_type": "error",
     "traceback": [
      "\u001b[1;36m  Cell \u001b[1;32mIn[127], line 2\u001b[1;36m\u001b[0m\n\u001b[1;33m    Emp.loc[len(Emp.index)=[50,'Saif',12000,30]]\u001b[0m\n\u001b[1;37m                          ^\u001b[0m\n\u001b[1;31mSyntaxError\u001b[0m\u001b[1;31m:\u001b[0m invalid syntax\n"
     ]
    }
   ],
   "source": [
    "#Add new row to dataframe\n",
    "Emp.loc[len(Emp.index)=[50,'Saif',12000,30]]"
   ]
  },
  {
   "cell_type": "code",
   "execution_count": 130,
   "metadata": {},
   "outputs": [
    {
     "data": {
      "text/html": [
       "<div>\n",
       "<style scoped>\n",
       "    .dataframe tbody tr th:only-of-type {\n",
       "        vertical-align: middle;\n",
       "    }\n",
       "\n",
       "    .dataframe tbody tr th {\n",
       "        vertical-align: top;\n",
       "    }\n",
       "\n",
       "    .dataframe thead th {\n",
       "        text-align: right;\n",
       "    }\n",
       "</style>\n",
       "<table border=\"1\" class=\"dataframe\">\n",
       "  <thead>\n",
       "    <tr style=\"text-align: right;\">\n",
       "      <th></th>\n",
       "      <th>10</th>\n",
       "      <th>20</th>\n",
       "      <th>30</th>\n",
       "      <th>40</th>\n",
       "    </tr>\n",
       "  </thead>\n",
       "  <tbody>\n",
       "    <tr>\n",
       "      <th>a</th>\n",
       "      <td>0</td>\n",
       "      <td>1</td>\n",
       "      <td>2</td>\n",
       "      <td>3</td>\n",
       "    </tr>\n",
       "    <tr>\n",
       "      <th>b</th>\n",
       "      <td>4</td>\n",
       "      <td>5</td>\n",
       "      <td>6</td>\n",
       "      <td>7</td>\n",
       "    </tr>\n",
       "    <tr>\n",
       "      <th>c</th>\n",
       "      <td>8</td>\n",
       "      <td>9</td>\n",
       "      <td>10</td>\n",
       "      <td>11</td>\n",
       "    </tr>\n",
       "    <tr>\n",
       "      <th>d</th>\n",
       "      <td>12</td>\n",
       "      <td>13</td>\n",
       "      <td>14</td>\n",
       "      <td>15</td>\n",
       "    </tr>\n",
       "  </tbody>\n",
       "</table>\n",
       "</div>"
      ],
      "text/plain": [
       "   10  20  30  40\n",
       "a   0   1   2   3\n",
       "b   4   5   6   7\n",
       "c   8   9  10  11\n",
       "d  12  13  14  15"
      ]
     },
     "execution_count": 130,
     "metadata": {},
     "output_type": "execute_result"
    }
   ],
   "source": [
    "myEm=pd.DataFrame(np.arange(16).reshape(4,4),index=['a','b','c','d'], columns=[10,20,30,40])\n",
    "myEm"
   ]
  },
  {
   "cell_type": "code",
   "execution_count": 131,
   "metadata": {},
   "outputs": [
    {
     "data": {
      "text/html": [
       "<div>\n",
       "<style scoped>\n",
       "    .dataframe tbody tr th:only-of-type {\n",
       "        vertical-align: middle;\n",
       "    }\n",
       "\n",
       "    .dataframe tbody tr th {\n",
       "        vertical-align: top;\n",
       "    }\n",
       "\n",
       "    .dataframe thead th {\n",
       "        text-align: right;\n",
       "    }\n",
       "</style>\n",
       "<table border=\"1\" class=\"dataframe\">\n",
       "  <thead>\n",
       "    <tr style=\"text-align: right;\">\n",
       "      <th></th>\n",
       "      <th>10</th>\n",
       "      <th>20</th>\n",
       "      <th>30</th>\n",
       "      <th>40</th>\n",
       "    </tr>\n",
       "  </thead>\n",
       "  <tbody>\n",
       "    <tr>\n",
       "      <th>a</th>\n",
       "      <td>0</td>\n",
       "      <td>1</td>\n",
       "      <td>2</td>\n",
       "      <td>3</td>\n",
       "    </tr>\n",
       "    <tr>\n",
       "      <th>b</th>\n",
       "      <td>4</td>\n",
       "      <td>5</td>\n",
       "      <td>6</td>\n",
       "      <td>7</td>\n",
       "    </tr>\n",
       "    <tr>\n",
       "      <th>d</th>\n",
       "      <td>12</td>\n",
       "      <td>13</td>\n",
       "      <td>14</td>\n",
       "      <td>15</td>\n",
       "    </tr>\n",
       "  </tbody>\n",
       "</table>\n",
       "</div>"
      ],
      "text/plain": [
       "   10  20  30  40\n",
       "a   0   1   2   3\n",
       "b   4   5   6   7\n",
       "d  12  13  14  15"
      ]
     },
     "execution_count": 131,
     "metadata": {},
     "output_type": "execute_result"
    }
   ],
   "source": [
    "myEm.drop('c')"
   ]
  },
  {
   "cell_type": "code",
   "execution_count": 132,
   "metadata": {},
   "outputs": [
    {
     "data": {
      "text/html": [
       "<div>\n",
       "<style scoped>\n",
       "    .dataframe tbody tr th:only-of-type {\n",
       "        vertical-align: middle;\n",
       "    }\n",
       "\n",
       "    .dataframe tbody tr th {\n",
       "        vertical-align: top;\n",
       "    }\n",
       "\n",
       "    .dataframe thead th {\n",
       "        text-align: right;\n",
       "    }\n",
       "</style>\n",
       "<table border=\"1\" class=\"dataframe\">\n",
       "  <thead>\n",
       "    <tr style=\"text-align: right;\">\n",
       "      <th></th>\n",
       "      <th>20</th>\n",
       "      <th>40</th>\n",
       "    </tr>\n",
       "  </thead>\n",
       "  <tbody>\n",
       "    <tr>\n",
       "      <th>a</th>\n",
       "      <td>1</td>\n",
       "      <td>3</td>\n",
       "    </tr>\n",
       "    <tr>\n",
       "      <th>b</th>\n",
       "      <td>5</td>\n",
       "      <td>7</td>\n",
       "    </tr>\n",
       "    <tr>\n",
       "      <th>c</th>\n",
       "      <td>9</td>\n",
       "      <td>11</td>\n",
       "    </tr>\n",
       "    <tr>\n",
       "      <th>d</th>\n",
       "      <td>13</td>\n",
       "      <td>15</td>\n",
       "    </tr>\n",
       "  </tbody>\n",
       "</table>\n",
       "</div>"
      ],
      "text/plain": [
       "   20  40\n",
       "a   1   3\n",
       "b   5   7\n",
       "c   9  11\n",
       "d  13  15"
      ]
     },
     "execution_count": 132,
     "metadata": {},
     "output_type": "execute_result"
    }
   ],
   "source": [
    "myEm.drop([10,30],axis=1)"
   ]
  },
  {
   "attachments": {},
   "cell_type": "markdown",
   "metadata": {},
   "source": [
    "#### Exploratory Data Analysis"
   ]
  },
  {
   "cell_type": "code",
   "execution_count": 133,
   "metadata": {},
   "outputs": [
    {
     "data": {
      "text/html": [
       "<div>\n",
       "<style scoped>\n",
       "    .dataframe tbody tr th:only-of-type {\n",
       "        vertical-align: middle;\n",
       "    }\n",
       "\n",
       "    .dataframe tbody tr th {\n",
       "        vertical-align: top;\n",
       "    }\n",
       "\n",
       "    .dataframe thead th {\n",
       "        text-align: right;\n",
       "    }\n",
       "</style>\n",
       "<table border=\"1\" class=\"dataframe\">\n",
       "  <thead>\n",
       "    <tr style=\"text-align: right;\">\n",
       "      <th></th>\n",
       "      <th>Price</th>\n",
       "      <th>Age</th>\n",
       "      <th>KM</th>\n",
       "      <th>FuelType</th>\n",
       "      <th>HP</th>\n",
       "      <th>MetColor</th>\n",
       "      <th>Automatic</th>\n",
       "      <th>CC</th>\n",
       "      <th>Doors</th>\n",
       "      <th>Weight</th>\n",
       "    </tr>\n",
       "  </thead>\n",
       "  <tbody>\n",
       "    <tr>\n",
       "      <th>0</th>\n",
       "      <td>7450.0</td>\n",
       "      <td>65.0</td>\n",
       "      <td>82000</td>\n",
       "      <td>Petrol</td>\n",
       "      <td>86</td>\n",
       "      <td>1</td>\n",
       "      <td>0</td>\n",
       "      <td>1300.0</td>\n",
       "      <td>3</td>\n",
       "      <td>1015.0</td>\n",
       "    </tr>\n",
       "    <tr>\n",
       "      <th>1</th>\n",
       "      <td>NaN</td>\n",
       "      <td>74.0</td>\n",
       "      <td>NaN</td>\n",
       "      <td>Petrol</td>\n",
       "      <td>##</td>\n",
       "      <td>1</td>\n",
       "      <td>0</td>\n",
       "      <td>NaN</td>\n",
       "      <td>3</td>\n",
       "      <td>1050.0</td>\n",
       "    </tr>\n",
       "    <tr>\n",
       "      <th>2</th>\n",
       "      <td>8950.0</td>\n",
       "      <td>80.0</td>\n",
       "      <td>64000</td>\n",
       "      <td>NaN</td>\n",
       "      <td>110</td>\n",
       "      <td>0</td>\n",
       "      <td>####</td>\n",
       "      <td>1600.0</td>\n",
       "      <td>Three</td>\n",
       "      <td>NaN</td>\n",
       "    </tr>\n",
       "    <tr>\n",
       "      <th>3</th>\n",
       "      <td>11450.0</td>\n",
       "      <td>54.0</td>\n",
       "      <td>NaN</td>\n",
       "      <td>Petrol</td>\n",
       "      <td>NaN</td>\n",
       "      <td>0</td>\n",
       "      <td>0</td>\n",
       "      <td>NaN</td>\n",
       "      <td>5</td>\n",
       "      <td>1080.0</td>\n",
       "    </tr>\n",
       "    <tr>\n",
       "      <th>4</th>\n",
       "      <td>NaN</td>\n",
       "      <td>42.0</td>\n",
       "      <td>##</td>\n",
       "      <td>Petrol</td>\n",
       "      <td>110</td>\n",
       "      <td>1</td>\n",
       "      <td>0</td>\n",
       "      <td>1600.0</td>\n",
       "      <td>NaN</td>\n",
       "      <td>1040.0</td>\n",
       "    </tr>\n",
       "    <tr>\n",
       "      <th>...</th>\n",
       "      <td>...</td>\n",
       "      <td>...</td>\n",
       "      <td>...</td>\n",
       "      <td>...</td>\n",
       "      <td>...</td>\n",
       "      <td>...</td>\n",
       "      <td>...</td>\n",
       "      <td>...</td>\n",
       "      <td>...</td>\n",
       "      <td>...</td>\n",
       "    </tr>\n",
       "    <tr>\n",
       "      <th>1441</th>\n",
       "      <td>8750.0</td>\n",
       "      <td>68.0</td>\n",
       "      <td>101889</td>\n",
       "      <td>petrol</td>\n",
       "      <td>110</td>\n",
       "      <td>1</td>\n",
       "      <td>0</td>\n",
       "      <td>1600.0</td>\n",
       "      <td>5</td>\n",
       "      <td>1075.0</td>\n",
       "    </tr>\n",
       "    <tr>\n",
       "      <th>1442</th>\n",
       "      <td>9950.0</td>\n",
       "      <td>62.0</td>\n",
       "      <td>109547</td>\n",
       "      <td>petrol</td>\n",
       "      <td>110</td>\n",
       "      <td>0</td>\n",
       "      <td>0</td>\n",
       "      <td>1600.0</td>\n",
       "      <td>5</td>\n",
       "      <td>1075.0</td>\n",
       "    </tr>\n",
       "    <tr>\n",
       "      <th>1443</th>\n",
       "      <td>9250.0</td>\n",
       "      <td>80.0</td>\n",
       "      <td>44444</td>\n",
       "      <td>Petrol</td>\n",
       "      <td>110</td>\n",
       "      <td>1</td>\n",
       "      <td>0</td>\n",
       "      <td>1600.0</td>\n",
       "      <td>3</td>\n",
       "      <td>1050.0</td>\n",
       "    </tr>\n",
       "    <tr>\n",
       "      <th>1444</th>\n",
       "      <td>12450.0</td>\n",
       "      <td>54.0</td>\n",
       "      <td>46230</td>\n",
       "      <td>Petrol</td>\n",
       "      <td>110</td>\n",
       "      <td>1</td>\n",
       "      <td>0</td>\n",
       "      <td>1600.0</td>\n",
       "      <td>3</td>\n",
       "      <td>1055.0</td>\n",
       "    </tr>\n",
       "    <tr>\n",
       "      <th>1445</th>\n",
       "      <td>8500.0</td>\n",
       "      <td>77.0</td>\n",
       "      <td>62285</td>\n",
       "      <td>Petrol</td>\n",
       "      <td>110</td>\n",
       "      <td>1</td>\n",
       "      <td>0</td>\n",
       "      <td>1600.0</td>\n",
       "      <td>5</td>\n",
       "      <td>1075.0</td>\n",
       "    </tr>\n",
       "  </tbody>\n",
       "</table>\n",
       "<p>1446 rows × 10 columns</p>\n",
       "</div>"
      ],
      "text/plain": [
       "        Price   Age      KM FuelType   HP  MetColor Automatic      CC  Doors  \\\n",
       "0      7450.0  65.0   82000   Petrol   86         1         0  1300.0      3   \n",
       "1         NaN  74.0     NaN   Petrol   ##         1         0     NaN      3   \n",
       "2      8950.0  80.0   64000      NaN  110         0      ####  1600.0  Three   \n",
       "3     11450.0  54.0     NaN   Petrol  NaN         0         0     NaN      5   \n",
       "4         NaN  42.0      ##   Petrol  110         1         0  1600.0    NaN   \n",
       "...       ...   ...     ...      ...  ...       ...       ...     ...    ...   \n",
       "1441   8750.0  68.0  101889   petrol  110         1         0  1600.0      5   \n",
       "1442   9950.0  62.0  109547   petrol  110         0         0  1600.0      5   \n",
       "1443   9250.0  80.0   44444   Petrol  110         1         0  1600.0      3   \n",
       "1444  12450.0  54.0   46230   Petrol  110         1         0  1600.0      3   \n",
       "1445   8500.0  77.0   62285   Petrol  110         1         0  1600.0      5   \n",
       "\n",
       "      Weight  \n",
       "0     1015.0  \n",
       "1     1050.0  \n",
       "2        NaN  \n",
       "3     1080.0  \n",
       "4     1040.0  \n",
       "...      ...  \n",
       "1441  1075.0  \n",
       "1442  1075.0  \n",
       "1443  1050.0  \n",
       "1444  1055.0  \n",
       "1445  1075.0  \n",
       "\n",
       "[1446 rows x 10 columns]"
      ]
     },
     "execution_count": 133,
     "metadata": {},
     "output_type": "execute_result"
    }
   ],
   "source": [
    "import pandas as pd\n",
    "df = pd.read_csv(r\"C:\\Users\\Amardeep\\Downloads\\Toyota.csv\") #reading file\n",
    "df"
   ]
  },
  {
   "attachments": {},
   "cell_type": "markdown",
   "metadata": {},
   "source": [
    "#### Data Preprocessing"
   ]
  },
  {
   "cell_type": "code",
   "execution_count": 139,
   "metadata": {},
   "outputs": [
    {
     "name": "stdout",
     "output_type": "stream",
     "text": [
      "        Price   Age      KM FuelType   HP  MetColor Automatic      CC Doors  \\\n",
      "1441   8750.0  68.0  101889   petrol  110         1         0  1600.0     5   \n",
      "1442   9950.0  62.0  109547   petrol  110         0         0  1600.0     5   \n",
      "1443   9250.0  80.0   44444   Petrol  110         1         0  1600.0     3   \n",
      "1444  12450.0  54.0   46230   Petrol  110         1         0  1600.0     3   \n",
      "1445   8500.0  77.0   62285   Petrol  110         1         0  1600.0     5   \n",
      "\n",
      "      Weight  \n",
      "1441  1075.0  \n",
      "1442  1075.0  \n",
      "1443  1050.0  \n",
      "1444  1055.0  \n",
      "1445  1075.0  \n",
      "Price        float64\n",
      "Age          float64\n",
      "KM            object\n",
      "FuelType      object\n",
      "HP            object\n",
      "MetColor       int64\n",
      "Automatic     object\n",
      "CC           float64\n",
      "Doors         object\n",
      "Weight       float64\n",
      "dtype: object\n"
     ]
    }
   ],
   "source": [
    "# print(df.head()) # first five rows of the data\n",
    "print(df.tail())\n",
    "##First understand the features of data\n",
    "print(df.dtypes)\n",
    "df.to_csv(\"../toyota.csv\")"
   ]
  },
  {
   "cell_type": "code",
   "execution_count": 141,
   "metadata": {},
   "outputs": [
    {
     "name": "stdout",
     "output_type": "stream",
     "text": [
      "(1446, 10)\n",
      "Price        1437\n",
      "Age          1441\n",
      "KM           1437\n",
      "FuelType     1445\n",
      "HP           1444\n",
      "MetColor     1446\n",
      "Automatic    1446\n",
      "CC           1443\n",
      "Doors        1444\n",
      "Weight       1445\n",
      "dtype: int64\n"
     ]
    }
   ],
   "source": [
    "#To know the dimention of dataframe\n",
    "print(df.shape)\n",
    "#To know number of not null values\n",
    "print(df.count())"
   ]
  },
  {
   "attachments": {},
   "cell_type": "markdown",
   "metadata": {},
   "source": [
    "#### Data Wrangling"
   ]
  },
  {
   "cell_type": "code",
   "execution_count": 142,
   "metadata": {},
   "outputs": [
    {
     "data": {
      "text/plain": [
       "(1437, 10)"
      ]
     },
     "execution_count": 142,
     "metadata": {},
     "output_type": "execute_result"
    }
   ],
   "source": [
    "#Drop the missing values\n",
    "#\n",
    "df.dropna(subset=['Price'],axis=0,inplace=True)\n",
    "df.shape"
   ]
  },
  {
   "cell_type": "code",
   "execution_count": 146,
   "metadata": {},
   "outputs": [
    {
     "name": "stdout",
     "output_type": "stream",
     "text": [
      "     Price   Age     KM FuelType   HP  MetColor Automatic      CC  Doors  \\\n",
      "0   7450.0  65.0  82000   Petrol   86         1         0  1300.0      3   \n",
      "2   8950.0  80.0  64000      NaN  110         0      ####  1600.0  Three   \n",
      "3  11450.0  54.0    NaN   Petrol  NaN         0         0     NaN      5   \n",
      "5   6950.0  80.0  62581     ????  110         0        ??  1600.0   Five   \n",
      "6   8250.0  70.0    NaN   petrol  NaN         1         1     NaN    NaN   \n",
      "\n",
      "   Weight  \n",
      "0  1015.0  \n",
      "2     NaN  \n",
      "3  1080.0  \n",
      "5  1075.0  \n",
      "6  1080.0  \n"
     ]
    }
   ],
   "source": [
    "# df.dropna(subset=['Age'], axis=1)\n",
    "print(df.head())"
   ]
  },
  {
   "cell_type": "code",
   "execution_count": 150,
   "metadata": {},
   "outputs": [
    {
     "name": "stdout",
     "output_type": "stream",
     "text": [
      "      Price   Age      KM FuelType   HP  MetColor Automatic      CC  Doors  \\\n",
      "0    7450.0  65.0   82000   Petrol   86         1         0  1300.0      3   \n",
      "2    8950.0  80.0   64000      NaN  110         0       NaN  1600.0  Three   \n",
      "3   11450.0  54.0     NaN   Petrol  NaN         0         0     NaN      5   \n",
      "5    6950.0  80.0   62581      NaN  110         0       NaN  1600.0   Five   \n",
      "6    8250.0  70.0     NaN   petrol  NaN         1         1     NaN    NaN   \n",
      "8    9950.0  65.0   65513   Petrol  110         1         1  1600.0   Four   \n",
      "9    7900.0  75.0  125400   Petrol  110         0         0  1600.0      3   \n",
      "10   6495.0  74.0   96302   Petrol   86         1         0  1300.0      3   \n",
      "11   9500.0  66.0   74963   Petrol  107         0         1  1600.0      3   \n",
      "12   6490.0  80.0  100123   Petrol  110         1         0  1600.0      3   \n",
      "\n",
      "    Weight  \n",
      "0   1015.0  \n",
      "2      NaN  \n",
      "3   1080.0  \n",
      "5   1075.0  \n",
      "6   1080.0  \n",
      "8   1070.0  \n",
      "9   1050.0  \n",
      "10  1015.0  \n",
      "11  1085.0  \n",
      "12  1050.0  \n",
      "(1437, 10)\n"
     ]
    }
   ],
   "source": [
    "# Convert all special characters in the dataframe to NaN\n",
    "import numpy as np\n",
    "na_values=['##','####','??','????','???','?']\n",
    "df.replace(na_values,np.nan,inplace=True)\n",
    "print(df.head(10))\n",
    "print(df.shape)"
   ]
  },
  {
   "cell_type": "code",
   "execution_count": 153,
   "metadata": {},
   "outputs": [],
   "source": [
    "#Replacing missing values with mean\n",
    "meanCC=df[\"CC\"].mean()\n",
    "meanKM=df[\"KM\"].mean()\n",
    "# df['CC'].replace(np.nan,meanCC)\n",
    "# df['KM'].replace(np.nan,meanKM)"
   ]
  },
  {
   "cell_type": "code",
   "execution_count": 167,
   "metadata": {},
   "outputs": [],
   "source": [
    "#Changeing the datatype of KM to float\n",
    "df['HP']=df['HP'].astype(float)\n",
    "df['KM']=df['KM'].astype(float)\n",
    "df['CC'].replace(np.nan,meanCC,inplace=True)\n",
    "df['KM'].replace(np.nan,meanKM,inplace=True)\n",
    "meanHP=df[\"HP\"].mean()\n",
    "df['HP'].replace(np.nan,meanHP,inplace=True)"
   ]
  },
  {
   "cell_type": "code",
   "execution_count": 155,
   "metadata": {},
   "outputs": [
    {
     "data": {
      "text/plain": [
       "Price        float64\n",
       "Age          float64\n",
       "KM           float64\n",
       "FuelType      object\n",
       "HP           float64\n",
       "MetColor       int64\n",
       "Automatic     object\n",
       "CC           float64\n",
       "Doors         object\n",
       "Weight       float64\n",
       "dtype: object"
      ]
     },
     "execution_count": 155,
     "metadata": {},
     "output_type": "execute_result"
    }
   ],
   "source": [
    "df.dtypes"
   ]
  },
  {
   "cell_type": "code",
   "execution_count": 168,
   "metadata": {},
   "outputs": [
    {
     "data": {
      "text/html": [
       "<div>\n",
       "<style scoped>\n",
       "    .dataframe tbody tr th:only-of-type {\n",
       "        vertical-align: middle;\n",
       "    }\n",
       "\n",
       "    .dataframe tbody tr th {\n",
       "        vertical-align: top;\n",
       "    }\n",
       "\n",
       "    .dataframe thead th {\n",
       "        text-align: right;\n",
       "    }\n",
       "</style>\n",
       "<table border=\"1\" class=\"dataframe\">\n",
       "  <thead>\n",
       "    <tr style=\"text-align: right;\">\n",
       "      <th></th>\n",
       "      <th>Price</th>\n",
       "      <th>Age</th>\n",
       "      <th>KM</th>\n",
       "      <th>FuelType</th>\n",
       "      <th>HP</th>\n",
       "      <th>MetColor</th>\n",
       "      <th>Automatic</th>\n",
       "      <th>CC</th>\n",
       "      <th>Doors</th>\n",
       "      <th>Weight</th>\n",
       "    </tr>\n",
       "  </thead>\n",
       "  <tbody>\n",
       "    <tr>\n",
       "      <th>0</th>\n",
       "      <td>7450.0</td>\n",
       "      <td>65.0</td>\n",
       "      <td>82000.000000</td>\n",
       "      <td>Petrol</td>\n",
       "      <td>86.000000</td>\n",
       "      <td>1</td>\n",
       "      <td>0</td>\n",
       "      <td>1300.000000</td>\n",
       "      <td>3</td>\n",
       "      <td>1015.0</td>\n",
       "    </tr>\n",
       "    <tr>\n",
       "      <th>2</th>\n",
       "      <td>8950.0</td>\n",
       "      <td>80.0</td>\n",
       "      <td>64000.000000</td>\n",
       "      <td>NaN</td>\n",
       "      <td>110.000000</td>\n",
       "      <td>0</td>\n",
       "      <td>NaN</td>\n",
       "      <td>1600.000000</td>\n",
       "      <td>Three</td>\n",
       "      <td>NaN</td>\n",
       "    </tr>\n",
       "    <tr>\n",
       "      <th>3</th>\n",
       "      <td>11450.0</td>\n",
       "      <td>54.0</td>\n",
       "      <td>68519.715782</td>\n",
       "      <td>Petrol</td>\n",
       "      <td>68519.715782</td>\n",
       "      <td>0</td>\n",
       "      <td>0</td>\n",
       "      <td>1566.944251</td>\n",
       "      <td>5</td>\n",
       "      <td>1080.0</td>\n",
       "    </tr>\n",
       "    <tr>\n",
       "      <th>5</th>\n",
       "      <td>6950.0</td>\n",
       "      <td>80.0</td>\n",
       "      <td>62581.000000</td>\n",
       "      <td>NaN</td>\n",
       "      <td>110.000000</td>\n",
       "      <td>0</td>\n",
       "      <td>NaN</td>\n",
       "      <td>1600.000000</td>\n",
       "      <td>Five</td>\n",
       "      <td>1075.0</td>\n",
       "    </tr>\n",
       "    <tr>\n",
       "      <th>6</th>\n",
       "      <td>8250.0</td>\n",
       "      <td>70.0</td>\n",
       "      <td>68519.715782</td>\n",
       "      <td>petrol</td>\n",
       "      <td>68519.715782</td>\n",
       "      <td>1</td>\n",
       "      <td>1</td>\n",
       "      <td>1566.944251</td>\n",
       "      <td>NaN</td>\n",
       "      <td>1080.0</td>\n",
       "    </tr>\n",
       "    <tr>\n",
       "      <th>8</th>\n",
       "      <td>9950.0</td>\n",
       "      <td>65.0</td>\n",
       "      <td>65513.000000</td>\n",
       "      <td>Petrol</td>\n",
       "      <td>110.000000</td>\n",
       "      <td>1</td>\n",
       "      <td>1</td>\n",
       "      <td>1600.000000</td>\n",
       "      <td>Four</td>\n",
       "      <td>1070.0</td>\n",
       "    </tr>\n",
       "    <tr>\n",
       "      <th>9</th>\n",
       "      <td>7900.0</td>\n",
       "      <td>75.0</td>\n",
       "      <td>125400.000000</td>\n",
       "      <td>Petrol</td>\n",
       "      <td>110.000000</td>\n",
       "      <td>0</td>\n",
       "      <td>0</td>\n",
       "      <td>1600.000000</td>\n",
       "      <td>3</td>\n",
       "      <td>1050.0</td>\n",
       "    </tr>\n",
       "    <tr>\n",
       "      <th>10</th>\n",
       "      <td>6495.0</td>\n",
       "      <td>74.0</td>\n",
       "      <td>96302.000000</td>\n",
       "      <td>Petrol</td>\n",
       "      <td>86.000000</td>\n",
       "      <td>1</td>\n",
       "      <td>0</td>\n",
       "      <td>1300.000000</td>\n",
       "      <td>3</td>\n",
       "      <td>1015.0</td>\n",
       "    </tr>\n",
       "    <tr>\n",
       "      <th>11</th>\n",
       "      <td>9500.0</td>\n",
       "      <td>66.0</td>\n",
       "      <td>74963.000000</td>\n",
       "      <td>Petrol</td>\n",
       "      <td>107.000000</td>\n",
       "      <td>0</td>\n",
       "      <td>1</td>\n",
       "      <td>1600.000000</td>\n",
       "      <td>3</td>\n",
       "      <td>1085.0</td>\n",
       "    </tr>\n",
       "    <tr>\n",
       "      <th>12</th>\n",
       "      <td>6490.0</td>\n",
       "      <td>80.0</td>\n",
       "      <td>100123.000000</td>\n",
       "      <td>Petrol</td>\n",
       "      <td>110.000000</td>\n",
       "      <td>1</td>\n",
       "      <td>0</td>\n",
       "      <td>1600.000000</td>\n",
       "      <td>3</td>\n",
       "      <td>1050.0</td>\n",
       "    </tr>\n",
       "  </tbody>\n",
       "</table>\n",
       "</div>"
      ],
      "text/plain": [
       "      Price   Age             KM FuelType            HP  MetColor Automatic  \\\n",
       "0    7450.0  65.0   82000.000000   Petrol     86.000000         1         0   \n",
       "2    8950.0  80.0   64000.000000      NaN    110.000000         0       NaN   \n",
       "3   11450.0  54.0   68519.715782   Petrol  68519.715782         0         0   \n",
       "5    6950.0  80.0   62581.000000      NaN    110.000000         0       NaN   \n",
       "6    8250.0  70.0   68519.715782   petrol  68519.715782         1         1   \n",
       "8    9950.0  65.0   65513.000000   Petrol    110.000000         1         1   \n",
       "9    7900.0  75.0  125400.000000   Petrol    110.000000         0         0   \n",
       "10   6495.0  74.0   96302.000000   Petrol     86.000000         1         0   \n",
       "11   9500.0  66.0   74963.000000   Petrol    107.000000         0         1   \n",
       "12   6490.0  80.0  100123.000000   Petrol    110.000000         1         0   \n",
       "\n",
       "             CC  Doors  Weight  \n",
       "0   1300.000000      3  1015.0  \n",
       "2   1600.000000  Three     NaN  \n",
       "3   1566.944251      5  1080.0  \n",
       "5   1600.000000   Five  1075.0  \n",
       "6   1566.944251    NaN  1080.0  \n",
       "8   1600.000000   Four  1070.0  \n",
       "9   1600.000000      3  1050.0  \n",
       "10  1300.000000      3  1015.0  \n",
       "11  1600.000000      3  1085.0  \n",
       "12  1600.000000      3  1050.0  "
      ]
     },
     "execution_count": 168,
     "metadata": {},
     "output_type": "execute_result"
    }
   ],
   "source": [
    "df.head(10)"
   ]
  },
  {
   "cell_type": "code",
   "execution_count": 180,
   "metadata": {},
   "outputs": [],
   "source": [
    "df['Doors'].value_counts()\n",
    "na_values={'Five':5,'Three':3,'Four':4}\n",
    "df.replace(na_values.keys(),na_values.values(),inplace=True)\n",
    "df['Doors']=df['Doors'].astype(float)\n"
   ]
  },
  {
   "cell_type": "code",
   "execution_count": 179,
   "metadata": {},
   "outputs": [
    {
     "data": {
      "text/html": [
       "<div>\n",
       "<style scoped>\n",
       "    .dataframe tbody tr th:only-of-type {\n",
       "        vertical-align: middle;\n",
       "    }\n",
       "\n",
       "    .dataframe tbody tr th {\n",
       "        vertical-align: top;\n",
       "    }\n",
       "\n",
       "    .dataframe thead th {\n",
       "        text-align: right;\n",
       "    }\n",
       "</style>\n",
       "<table border=\"1\" class=\"dataframe\">\n",
       "  <thead>\n",
       "    <tr style=\"text-align: right;\">\n",
       "      <th></th>\n",
       "      <th>Price</th>\n",
       "      <th>Age</th>\n",
       "      <th>KM</th>\n",
       "      <th>FuelType</th>\n",
       "      <th>HP</th>\n",
       "      <th>MetColor</th>\n",
       "      <th>Automatic</th>\n",
       "      <th>CC</th>\n",
       "      <th>Doors</th>\n",
       "      <th>Weight</th>\n",
       "    </tr>\n",
       "  </thead>\n",
       "  <tbody>\n",
       "    <tr>\n",
       "      <th>0</th>\n",
       "      <td>7450.0</td>\n",
       "      <td>65.0</td>\n",
       "      <td>82000.000000</td>\n",
       "      <td>Petrol</td>\n",
       "      <td>86.000000</td>\n",
       "      <td>1</td>\n",
       "      <td>0</td>\n",
       "      <td>1300.000000</td>\n",
       "      <td>3</td>\n",
       "      <td>1015.0</td>\n",
       "    </tr>\n",
       "    <tr>\n",
       "      <th>2</th>\n",
       "      <td>8950.0</td>\n",
       "      <td>80.0</td>\n",
       "      <td>64000.000000</td>\n",
       "      <td>NaN</td>\n",
       "      <td>110.000000</td>\n",
       "      <td>0</td>\n",
       "      <td>NaN</td>\n",
       "      <td>1600.000000</td>\n",
       "      <td>3</td>\n",
       "      <td>NaN</td>\n",
       "    </tr>\n",
       "    <tr>\n",
       "      <th>3</th>\n",
       "      <td>11450.0</td>\n",
       "      <td>54.0</td>\n",
       "      <td>68519.715782</td>\n",
       "      <td>Petrol</td>\n",
       "      <td>68519.715782</td>\n",
       "      <td>0</td>\n",
       "      <td>0</td>\n",
       "      <td>1566.944251</td>\n",
       "      <td>5</td>\n",
       "      <td>1080.0</td>\n",
       "    </tr>\n",
       "    <tr>\n",
       "      <th>5</th>\n",
       "      <td>6950.0</td>\n",
       "      <td>80.0</td>\n",
       "      <td>62581.000000</td>\n",
       "      <td>NaN</td>\n",
       "      <td>110.000000</td>\n",
       "      <td>0</td>\n",
       "      <td>NaN</td>\n",
       "      <td>1600.000000</td>\n",
       "      <td>5</td>\n",
       "      <td>1075.0</td>\n",
       "    </tr>\n",
       "    <tr>\n",
       "      <th>6</th>\n",
       "      <td>8250.0</td>\n",
       "      <td>70.0</td>\n",
       "      <td>68519.715782</td>\n",
       "      <td>Petrol</td>\n",
       "      <td>68519.715782</td>\n",
       "      <td>1</td>\n",
       "      <td>1</td>\n",
       "      <td>1566.944251</td>\n",
       "      <td>NaN</td>\n",
       "      <td>1080.0</td>\n",
       "    </tr>\n",
       "    <tr>\n",
       "      <th>8</th>\n",
       "      <td>9950.0</td>\n",
       "      <td>65.0</td>\n",
       "      <td>65513.000000</td>\n",
       "      <td>Petrol</td>\n",
       "      <td>110.000000</td>\n",
       "      <td>1</td>\n",
       "      <td>1</td>\n",
       "      <td>1600.000000</td>\n",
       "      <td>4</td>\n",
       "      <td>1070.0</td>\n",
       "    </tr>\n",
       "    <tr>\n",
       "      <th>9</th>\n",
       "      <td>7900.0</td>\n",
       "      <td>75.0</td>\n",
       "      <td>125400.000000</td>\n",
       "      <td>Petrol</td>\n",
       "      <td>110.000000</td>\n",
       "      <td>0</td>\n",
       "      <td>0</td>\n",
       "      <td>1600.000000</td>\n",
       "      <td>3</td>\n",
       "      <td>1050.0</td>\n",
       "    </tr>\n",
       "    <tr>\n",
       "      <th>10</th>\n",
       "      <td>6495.0</td>\n",
       "      <td>74.0</td>\n",
       "      <td>96302.000000</td>\n",
       "      <td>Petrol</td>\n",
       "      <td>86.000000</td>\n",
       "      <td>1</td>\n",
       "      <td>0</td>\n",
       "      <td>1300.000000</td>\n",
       "      <td>3</td>\n",
       "      <td>1015.0</td>\n",
       "    </tr>\n",
       "    <tr>\n",
       "      <th>11</th>\n",
       "      <td>9500.0</td>\n",
       "      <td>66.0</td>\n",
       "      <td>74963.000000</td>\n",
       "      <td>Petrol</td>\n",
       "      <td>107.000000</td>\n",
       "      <td>0</td>\n",
       "      <td>1</td>\n",
       "      <td>1600.000000</td>\n",
       "      <td>3</td>\n",
       "      <td>1085.0</td>\n",
       "    </tr>\n",
       "    <tr>\n",
       "      <th>12</th>\n",
       "      <td>6490.0</td>\n",
       "      <td>80.0</td>\n",
       "      <td>100123.000000</td>\n",
       "      <td>Petrol</td>\n",
       "      <td>110.000000</td>\n",
       "      <td>1</td>\n",
       "      <td>0</td>\n",
       "      <td>1600.000000</td>\n",
       "      <td>3</td>\n",
       "      <td>1050.0</td>\n",
       "    </tr>\n",
       "  </tbody>\n",
       "</table>\n",
       "</div>"
      ],
      "text/plain": [
       "      Price   Age             KM FuelType            HP  MetColor Automatic  \\\n",
       "0    7450.0  65.0   82000.000000   Petrol     86.000000         1         0   \n",
       "2    8950.0  80.0   64000.000000      NaN    110.000000         0       NaN   \n",
       "3   11450.0  54.0   68519.715782   Petrol  68519.715782         0         0   \n",
       "5    6950.0  80.0   62581.000000      NaN    110.000000         0       NaN   \n",
       "6    8250.0  70.0   68519.715782   Petrol  68519.715782         1         1   \n",
       "8    9950.0  65.0   65513.000000   Petrol    110.000000         1         1   \n",
       "9    7900.0  75.0  125400.000000   Petrol    110.000000         0         0   \n",
       "10   6495.0  74.0   96302.000000   Petrol     86.000000         1         0   \n",
       "11   9500.0  66.0   74963.000000   Petrol    107.000000         0         1   \n",
       "12   6490.0  80.0  100123.000000   Petrol    110.000000         1         0   \n",
       "\n",
       "             CC Doors  Weight  \n",
       "0   1300.000000     3  1015.0  \n",
       "2   1600.000000     3     NaN  \n",
       "3   1566.944251     5  1080.0  \n",
       "5   1600.000000     5  1075.0  \n",
       "6   1566.944251   NaN  1080.0  \n",
       "8   1600.000000     4  1070.0  \n",
       "9   1600.000000     3  1050.0  \n",
       "10  1300.000000     3  1015.0  \n",
       "11  1600.000000     3  1085.0  \n",
       "12  1600.000000     3  1050.0  "
      ]
     },
     "execution_count": 179,
     "metadata": {},
     "output_type": "execute_result"
    }
   ],
   "source": [
    "df.head(10)"
   ]
  },
  {
   "cell_type": "code",
   "execution_count": 169,
   "metadata": {},
   "outputs": [],
   "source": [
    "df['FuelType'].replace('petrol','Petrol',inplace=True)\n",
    "df['FuelType'].replace('diseal','Diseal',inplace=True)\n"
   ]
  },
  {
   "cell_type": "code",
   "execution_count": 170,
   "metadata": {},
   "outputs": [
    {
     "data": {
      "text/html": [
       "<div>\n",
       "<style scoped>\n",
       "    .dataframe tbody tr th:only-of-type {\n",
       "        vertical-align: middle;\n",
       "    }\n",
       "\n",
       "    .dataframe tbody tr th {\n",
       "        vertical-align: top;\n",
       "    }\n",
       "\n",
       "    .dataframe thead th {\n",
       "        text-align: right;\n",
       "    }\n",
       "</style>\n",
       "<table border=\"1\" class=\"dataframe\">\n",
       "  <thead>\n",
       "    <tr style=\"text-align: right;\">\n",
       "      <th></th>\n",
       "      <th>CNG</th>\n",
       "      <th>CompressedNaturalGas</th>\n",
       "      <th>Diesel</th>\n",
       "      <th>Petrol</th>\n",
       "      <th>diesel</th>\n",
       "      <th>methane</th>\n",
       "    </tr>\n",
       "  </thead>\n",
       "  <tbody>\n",
       "    <tr>\n",
       "      <th>0</th>\n",
       "      <td>0</td>\n",
       "      <td>0</td>\n",
       "      <td>0</td>\n",
       "      <td>1</td>\n",
       "      <td>0</td>\n",
       "      <td>0</td>\n",
       "    </tr>\n",
       "    <tr>\n",
       "      <th>2</th>\n",
       "      <td>0</td>\n",
       "      <td>0</td>\n",
       "      <td>0</td>\n",
       "      <td>0</td>\n",
       "      <td>0</td>\n",
       "      <td>0</td>\n",
       "    </tr>\n",
       "    <tr>\n",
       "      <th>3</th>\n",
       "      <td>0</td>\n",
       "      <td>0</td>\n",
       "      <td>0</td>\n",
       "      <td>1</td>\n",
       "      <td>0</td>\n",
       "      <td>0</td>\n",
       "    </tr>\n",
       "    <tr>\n",
       "      <th>5</th>\n",
       "      <td>0</td>\n",
       "      <td>0</td>\n",
       "      <td>0</td>\n",
       "      <td>0</td>\n",
       "      <td>0</td>\n",
       "      <td>0</td>\n",
       "    </tr>\n",
       "    <tr>\n",
       "      <th>6</th>\n",
       "      <td>0</td>\n",
       "      <td>0</td>\n",
       "      <td>0</td>\n",
       "      <td>1</td>\n",
       "      <td>0</td>\n",
       "      <td>0</td>\n",
       "    </tr>\n",
       "    <tr>\n",
       "      <th>...</th>\n",
       "      <td>...</td>\n",
       "      <td>...</td>\n",
       "      <td>...</td>\n",
       "      <td>...</td>\n",
       "      <td>...</td>\n",
       "      <td>...</td>\n",
       "    </tr>\n",
       "    <tr>\n",
       "      <th>1441</th>\n",
       "      <td>0</td>\n",
       "      <td>0</td>\n",
       "      <td>0</td>\n",
       "      <td>1</td>\n",
       "      <td>0</td>\n",
       "      <td>0</td>\n",
       "    </tr>\n",
       "    <tr>\n",
       "      <th>1442</th>\n",
       "      <td>0</td>\n",
       "      <td>0</td>\n",
       "      <td>0</td>\n",
       "      <td>1</td>\n",
       "      <td>0</td>\n",
       "      <td>0</td>\n",
       "    </tr>\n",
       "    <tr>\n",
       "      <th>1443</th>\n",
       "      <td>0</td>\n",
       "      <td>0</td>\n",
       "      <td>0</td>\n",
       "      <td>1</td>\n",
       "      <td>0</td>\n",
       "      <td>0</td>\n",
       "    </tr>\n",
       "    <tr>\n",
       "      <th>1444</th>\n",
       "      <td>0</td>\n",
       "      <td>0</td>\n",
       "      <td>0</td>\n",
       "      <td>1</td>\n",
       "      <td>0</td>\n",
       "      <td>0</td>\n",
       "    </tr>\n",
       "    <tr>\n",
       "      <th>1445</th>\n",
       "      <td>0</td>\n",
       "      <td>0</td>\n",
       "      <td>0</td>\n",
       "      <td>1</td>\n",
       "      <td>0</td>\n",
       "      <td>0</td>\n",
       "    </tr>\n",
       "  </tbody>\n",
       "</table>\n",
       "<p>1437 rows × 6 columns</p>\n",
       "</div>"
      ],
      "text/plain": [
       "      CNG  CompressedNaturalGas  Diesel  Petrol  diesel  methane\n",
       "0       0                     0       0       1       0        0\n",
       "2       0                     0       0       0       0        0\n",
       "3       0                     0       0       1       0        0\n",
       "5       0                     0       0       0       0        0\n",
       "6       0                     0       0       1       0        0\n",
       "...   ...                   ...     ...     ...     ...      ...\n",
       "1441    0                     0       0       1       0        0\n",
       "1442    0                     0       0       1       0        0\n",
       "1443    0                     0       0       1       0        0\n",
       "1444    0                     0       0       1       0        0\n",
       "1445    0                     0       0       1       0        0\n",
       "\n",
       "[1437 rows x 6 columns]"
      ]
     },
     "execution_count": 170,
     "metadata": {},
     "output_type": "execute_result"
    }
   ],
   "source": [
    "pd.get_dummies(df['FuelType'])"
   ]
  },
  {
   "cell_type": "code",
   "execution_count": 171,
   "metadata": {},
   "outputs": [
    {
     "data": {
      "text/html": [
       "<div>\n",
       "<style scoped>\n",
       "    .dataframe tbody tr th:only-of-type {\n",
       "        vertical-align: middle;\n",
       "    }\n",
       "\n",
       "    .dataframe tbody tr th {\n",
       "        vertical-align: top;\n",
       "    }\n",
       "\n",
       "    .dataframe thead th {\n",
       "        text-align: right;\n",
       "    }\n",
       "</style>\n",
       "<table border=\"1\" class=\"dataframe\">\n",
       "  <thead>\n",
       "    <tr style=\"text-align: right;\">\n",
       "      <th></th>\n",
       "      <th>Price</th>\n",
       "      <th>Age</th>\n",
       "      <th>KM</th>\n",
       "      <th>HP</th>\n",
       "      <th>MetColor</th>\n",
       "      <th>CC</th>\n",
       "      <th>Weight</th>\n",
       "    </tr>\n",
       "  </thead>\n",
       "  <tbody>\n",
       "    <tr>\n",
       "      <th>count</th>\n",
       "      <td>1437.000000</td>\n",
       "      <td>1435.000000</td>\n",
       "      <td>1437.000000</td>\n",
       "      <td>1437.000000</td>\n",
       "      <td>1437.000000</td>\n",
       "      <td>1437.000000</td>\n",
       "      <td>1436.000000</td>\n",
       "    </tr>\n",
       "    <tr>\n",
       "      <th>mean</th>\n",
       "      <td>10729.272095</td>\n",
       "      <td>55.943554</td>\n",
       "      <td>68519.715782</td>\n",
       "      <td>196.686452</td>\n",
       "      <td>0.673626</td>\n",
       "      <td>1566.944251</td>\n",
       "      <td>1072.457521</td>\n",
       "    </tr>\n",
       "    <tr>\n",
       "      <th>std</th>\n",
       "      <td>3624.719236</td>\n",
       "      <td>18.597709</td>\n",
       "      <td>37450.331093</td>\n",
       "      <td>2551.613095</td>\n",
       "      <td>0.469049</td>\n",
       "      <td>187.511603</td>\n",
       "      <td>52.656843</td>\n",
       "    </tr>\n",
       "    <tr>\n",
       "      <th>min</th>\n",
       "      <td>4350.000000</td>\n",
       "      <td>1.000000</td>\n",
       "      <td>1.000000</td>\n",
       "      <td>69.000000</td>\n",
       "      <td>0.000000</td>\n",
       "      <td>1300.000000</td>\n",
       "      <td>1000.000000</td>\n",
       "    </tr>\n",
       "    <tr>\n",
       "      <th>25%</th>\n",
       "      <td>8450.000000</td>\n",
       "      <td>44.000000</td>\n",
       "      <td>43000.000000</td>\n",
       "      <td>90.000000</td>\n",
       "      <td>0.000000</td>\n",
       "      <td>1400.000000</td>\n",
       "      <td>1040.000000</td>\n",
       "    </tr>\n",
       "    <tr>\n",
       "      <th>50%</th>\n",
       "      <td>9900.000000</td>\n",
       "      <td>61.000000</td>\n",
       "      <td>63634.000000</td>\n",
       "      <td>110.000000</td>\n",
       "      <td>1.000000</td>\n",
       "      <td>1600.000000</td>\n",
       "      <td>1070.000000</td>\n",
       "    </tr>\n",
       "    <tr>\n",
       "      <th>75%</th>\n",
       "      <td>11950.000000</td>\n",
       "      <td>70.000000</td>\n",
       "      <td>87000.000000</td>\n",
       "      <td>110.000000</td>\n",
       "      <td>1.000000</td>\n",
       "      <td>1600.000000</td>\n",
       "      <td>1085.000000</td>\n",
       "    </tr>\n",
       "    <tr>\n",
       "      <th>max</th>\n",
       "      <td>32500.000000</td>\n",
       "      <td>80.000000</td>\n",
       "      <td>243000.000000</td>\n",
       "      <td>68519.715782</td>\n",
       "      <td>1.000000</td>\n",
       "      <td>2000.000000</td>\n",
       "      <td>1615.000000</td>\n",
       "    </tr>\n",
       "  </tbody>\n",
       "</table>\n",
       "</div>"
      ],
      "text/plain": [
       "              Price          Age             KM            HP     MetColor  \\\n",
       "count   1437.000000  1435.000000    1437.000000   1437.000000  1437.000000   \n",
       "mean   10729.272095    55.943554   68519.715782    196.686452     0.673626   \n",
       "std     3624.719236    18.597709   37450.331093   2551.613095     0.469049   \n",
       "min     4350.000000     1.000000       1.000000     69.000000     0.000000   \n",
       "25%     8450.000000    44.000000   43000.000000     90.000000     0.000000   \n",
       "50%     9900.000000    61.000000   63634.000000    110.000000     1.000000   \n",
       "75%    11950.000000    70.000000   87000.000000    110.000000     1.000000   \n",
       "max    32500.000000    80.000000  243000.000000  68519.715782     1.000000   \n",
       "\n",
       "                CC       Weight  \n",
       "count  1437.000000  1436.000000  \n",
       "mean   1566.944251  1072.457521  \n",
       "std     187.511603    52.656843  \n",
       "min    1300.000000  1000.000000  \n",
       "25%    1400.000000  1040.000000  \n",
       "50%    1600.000000  1070.000000  \n",
       "75%    1600.000000  1085.000000  \n",
       "max    2000.000000  1615.000000  "
      ]
     },
     "execution_count": 171,
     "metadata": {},
     "output_type": "execute_result"
    }
   ],
   "source": [
    "#summary\n",
    "df.describe()"
   ]
  },
  {
   "cell_type": "code",
   "execution_count": 172,
   "metadata": {},
   "outputs": [
    {
     "data": {
      "text/html": [
       "<div>\n",
       "<style scoped>\n",
       "    .dataframe tbody tr th:only-of-type {\n",
       "        vertical-align: middle;\n",
       "    }\n",
       "\n",
       "    .dataframe tbody tr th {\n",
       "        vertical-align: top;\n",
       "    }\n",
       "\n",
       "    .dataframe thead th {\n",
       "        text-align: right;\n",
       "    }\n",
       "</style>\n",
       "<table border=\"1\" class=\"dataframe\">\n",
       "  <thead>\n",
       "    <tr style=\"text-align: right;\">\n",
       "      <th></th>\n",
       "      <th>Price</th>\n",
       "      <th>Age</th>\n",
       "      <th>KM</th>\n",
       "      <th>FuelType</th>\n",
       "      <th>HP</th>\n",
       "      <th>MetColor</th>\n",
       "      <th>Automatic</th>\n",
       "      <th>CC</th>\n",
       "      <th>Doors</th>\n",
       "      <th>Weight</th>\n",
       "    </tr>\n",
       "  </thead>\n",
       "  <tbody>\n",
       "    <tr>\n",
       "      <th>count</th>\n",
       "      <td>1437.000000</td>\n",
       "      <td>1435.000000</td>\n",
       "      <td>1437.000000</td>\n",
       "      <td>1435</td>\n",
       "      <td>1437.000000</td>\n",
       "      <td>1437.000000</td>\n",
       "      <td>1435</td>\n",
       "      <td>1437.000000</td>\n",
       "      <td>1436</td>\n",
       "      <td>1436.000000</td>\n",
       "    </tr>\n",
       "    <tr>\n",
       "      <th>unique</th>\n",
       "      <td>NaN</td>\n",
       "      <td>NaN</td>\n",
       "      <td>NaN</td>\n",
       "      <td>6</td>\n",
       "      <td>NaN</td>\n",
       "      <td>NaN</td>\n",
       "      <td>2</td>\n",
       "      <td>NaN</td>\n",
       "      <td>7</td>\n",
       "      <td>NaN</td>\n",
       "    </tr>\n",
       "    <tr>\n",
       "      <th>top</th>\n",
       "      <td>NaN</td>\n",
       "      <td>NaN</td>\n",
       "      <td>NaN</td>\n",
       "      <td>Petrol</td>\n",
       "      <td>NaN</td>\n",
       "      <td>NaN</td>\n",
       "      <td>0</td>\n",
       "      <td>NaN</td>\n",
       "      <td>5</td>\n",
       "      <td>NaN</td>\n",
       "    </tr>\n",
       "    <tr>\n",
       "      <th>freq</th>\n",
       "      <td>NaN</td>\n",
       "      <td>NaN</td>\n",
       "      <td>NaN</td>\n",
       "      <td>1263</td>\n",
       "      <td>NaN</td>\n",
       "      <td>NaN</td>\n",
       "      <td>1355</td>\n",
       "      <td>NaN</td>\n",
       "      <td>672</td>\n",
       "      <td>NaN</td>\n",
       "    </tr>\n",
       "    <tr>\n",
       "      <th>mean</th>\n",
       "      <td>10729.272095</td>\n",
       "      <td>55.943554</td>\n",
       "      <td>68519.715782</td>\n",
       "      <td>NaN</td>\n",
       "      <td>196.686452</td>\n",
       "      <td>0.673626</td>\n",
       "      <td>NaN</td>\n",
       "      <td>1566.944251</td>\n",
       "      <td>NaN</td>\n",
       "      <td>1072.457521</td>\n",
       "    </tr>\n",
       "    <tr>\n",
       "      <th>std</th>\n",
       "      <td>3624.719236</td>\n",
       "      <td>18.597709</td>\n",
       "      <td>37450.331093</td>\n",
       "      <td>NaN</td>\n",
       "      <td>2551.613095</td>\n",
       "      <td>0.469049</td>\n",
       "      <td>NaN</td>\n",
       "      <td>187.511603</td>\n",
       "      <td>NaN</td>\n",
       "      <td>52.656843</td>\n",
       "    </tr>\n",
       "    <tr>\n",
       "      <th>min</th>\n",
       "      <td>4350.000000</td>\n",
       "      <td>1.000000</td>\n",
       "      <td>1.000000</td>\n",
       "      <td>NaN</td>\n",
       "      <td>69.000000</td>\n",
       "      <td>0.000000</td>\n",
       "      <td>NaN</td>\n",
       "      <td>1300.000000</td>\n",
       "      <td>NaN</td>\n",
       "      <td>1000.000000</td>\n",
       "    </tr>\n",
       "    <tr>\n",
       "      <th>25%</th>\n",
       "      <td>8450.000000</td>\n",
       "      <td>44.000000</td>\n",
       "      <td>43000.000000</td>\n",
       "      <td>NaN</td>\n",
       "      <td>90.000000</td>\n",
       "      <td>0.000000</td>\n",
       "      <td>NaN</td>\n",
       "      <td>1400.000000</td>\n",
       "      <td>NaN</td>\n",
       "      <td>1040.000000</td>\n",
       "    </tr>\n",
       "    <tr>\n",
       "      <th>50%</th>\n",
       "      <td>9900.000000</td>\n",
       "      <td>61.000000</td>\n",
       "      <td>63634.000000</td>\n",
       "      <td>NaN</td>\n",
       "      <td>110.000000</td>\n",
       "      <td>1.000000</td>\n",
       "      <td>NaN</td>\n",
       "      <td>1600.000000</td>\n",
       "      <td>NaN</td>\n",
       "      <td>1070.000000</td>\n",
       "    </tr>\n",
       "    <tr>\n",
       "      <th>75%</th>\n",
       "      <td>11950.000000</td>\n",
       "      <td>70.000000</td>\n",
       "      <td>87000.000000</td>\n",
       "      <td>NaN</td>\n",
       "      <td>110.000000</td>\n",
       "      <td>1.000000</td>\n",
       "      <td>NaN</td>\n",
       "      <td>1600.000000</td>\n",
       "      <td>NaN</td>\n",
       "      <td>1085.000000</td>\n",
       "    </tr>\n",
       "    <tr>\n",
       "      <th>max</th>\n",
       "      <td>32500.000000</td>\n",
       "      <td>80.000000</td>\n",
       "      <td>243000.000000</td>\n",
       "      <td>NaN</td>\n",
       "      <td>68519.715782</td>\n",
       "      <td>1.000000</td>\n",
       "      <td>NaN</td>\n",
       "      <td>2000.000000</td>\n",
       "      <td>NaN</td>\n",
       "      <td>1615.000000</td>\n",
       "    </tr>\n",
       "  </tbody>\n",
       "</table>\n",
       "</div>"
      ],
      "text/plain": [
       "               Price          Age             KM FuelType            HP  \\\n",
       "count    1437.000000  1435.000000    1437.000000     1435   1437.000000   \n",
       "unique           NaN          NaN            NaN        6           NaN   \n",
       "top              NaN          NaN            NaN   Petrol           NaN   \n",
       "freq             NaN          NaN            NaN     1263           NaN   \n",
       "mean    10729.272095    55.943554   68519.715782      NaN    196.686452   \n",
       "std      3624.719236    18.597709   37450.331093      NaN   2551.613095   \n",
       "min      4350.000000     1.000000       1.000000      NaN     69.000000   \n",
       "25%      8450.000000    44.000000   43000.000000      NaN     90.000000   \n",
       "50%      9900.000000    61.000000   63634.000000      NaN    110.000000   \n",
       "75%     11950.000000    70.000000   87000.000000      NaN    110.000000   \n",
       "max     32500.000000    80.000000  243000.000000      NaN  68519.715782   \n",
       "\n",
       "           MetColor Automatic           CC Doors       Weight  \n",
       "count   1437.000000      1435  1437.000000  1436  1436.000000  \n",
       "unique          NaN         2          NaN     7          NaN  \n",
       "top             NaN         0          NaN     5          NaN  \n",
       "freq            NaN      1355          NaN   672          NaN  \n",
       "mean       0.673626       NaN  1566.944251   NaN  1072.457521  \n",
       "std        0.469049       NaN   187.511603   NaN    52.656843  \n",
       "min        0.000000       NaN  1300.000000   NaN  1000.000000  \n",
       "25%        0.000000       NaN  1400.000000   NaN  1040.000000  \n",
       "50%        1.000000       NaN  1600.000000   NaN  1070.000000  \n",
       "75%        1.000000       NaN  1600.000000   NaN  1085.000000  \n",
       "max        1.000000       NaN  2000.000000   NaN  1615.000000  "
      ]
     },
     "execution_count": 172,
     "metadata": {},
     "output_type": "execute_result"
    }
   ],
   "source": [
    "#Full Summary Statistics\n",
    "df.describe(include='all')"
   ]
  },
  {
   "cell_type": "code",
   "execution_count": 173,
   "metadata": {},
   "outputs": [
    {
     "name": "stdout",
     "output_type": "stream",
     "text": [
      "<class 'pandas.core.frame.DataFrame'>\n",
      "Int64Index: 1437 entries, 0 to 1445\n",
      "Data columns (total 10 columns):\n",
      " #   Column     Non-Null Count  Dtype  \n",
      "---  ------     --------------  -----  \n",
      " 0   Price      1437 non-null   float64\n",
      " 1   Age        1435 non-null   float64\n",
      " 2   KM         1437 non-null   float64\n",
      " 3   FuelType   1435 non-null   object \n",
      " 4   HP         1437 non-null   float64\n",
      " 5   MetColor   1437 non-null   int64  \n",
      " 6   Automatic  1435 non-null   object \n",
      " 7   CC         1437 non-null   float64\n",
      " 8   Doors      1436 non-null   object \n",
      " 9   Weight     1436 non-null   float64\n",
      "dtypes: float64(6), int64(1), object(3)\n",
      "memory usage: 163.5+ KB\n"
     ]
    }
   ],
   "source": [
    "df.info()"
   ]
  },
  {
   "cell_type": "code",
   "execution_count": 175,
   "metadata": {},
   "outputs": [
    {
     "data": {
      "text/plain": [
       "Petrol                  1263\n",
       "Diesel                   146\n",
       "diesel                    10\n",
       "CNG                        8\n",
       "methane                    4\n",
       "CompressedNaturalGas       4\n",
       "Name: FuelType, dtype: int64"
      ]
     },
     "execution_count": 175,
     "metadata": {},
     "output_type": "execute_result"
    }
   ],
   "source": [
    "#Summmarise catetorical data using value count method\n",
    "x=df['FuelType'].value_counts()\n",
    "x"
   ]
  },
  {
   "attachments": {},
   "cell_type": "markdown",
   "metadata": {},
   "source": [
    "#### Data visualization"
   ]
  },
  {
   "cell_type": "code",
   "execution_count": 183,
   "metadata": {},
   "outputs": [
    {
     "name": "stdout",
     "output_type": "stream",
     "text": [
      "[ 50.          55.55555556  61.11111111  66.66666667  72.22222222\n",
      "  77.77777778  83.33333333  88.88888889  94.44444444 100.        ]\n",
      "[100.         105.55555556 111.11111111 116.66666667 122.22222222\n",
      " 127.77777778 133.33333333 138.88888889 144.44444444 150.        ]\n"
     ]
    },
    {
     "data": {
      "text/plain": [
       "[<matplotlib.lines.Line2D at 0x3d0d853580>]"
      ]
     },
     "execution_count": 183,
     "metadata": {},
     "output_type": "execute_result"
    },
    {
     "data": {
      "image/png": "[encoded data removed]",
      "text/plain": [
       "<Figure size 640x480 with 1 Axes>"
      ]
     },
     "metadata": {},
     "output_type": "display_data"
    }
   ],
   "source": [
    "import matplotlib.pyplot as plt\n",
    "x=np.linspace(50,100,num=10)\n",
    "print(x)\n",
    "y=np.linspace(100,150,num=10)\n",
    "print(y)\n",
    "plt.plot(x,y,c='r',marker='*',markersize=10)"
   ]
  },
  {
   "cell_type": "code",
   "execution_count": 186,
   "metadata": {},
   "outputs": [
    {
     "data": {
      "text/plain": [
       "<matplotlib.collections.PathCollection at 0x3d0da73130>"
      ]
     },
     "execution_count": 186,
     "metadata": {},
     "output_type": "execute_result"
    },
    {
     "data": {
      "image/png": "[encoded data removed]",
      "text/plain": [
       "<Figure size 640x480 with 1 Axes>"
      ]
     },
     "metadata": {},
     "output_type": "display_data"
    }
   ],
   "source": [
    "x=np.random.random(10)*10\n",
    "y=np.random.random(10)*100\n",
    "plt.scatter(x,y,c='r',)"
   ]
  },
  {
   "cell_type": "code",
   "execution_count": null,
   "metadata": {},
   "outputs": [],
   "source": [
    "plt.subplot(1,2,1)\n",
    "x=np.linspace(0,5,10)\n"
   ]
  },
  {
   "cell_type": "code",
   "execution_count": 188,
   "metadata": {},
   "outputs": [
    {
     "data": {
      "text/html": [
       "<div>\n",
       "<style scoped>\n",
       "    .dataframe tbody tr th:only-of-type {\n",
       "        vertical-align: middle;\n",
       "    }\n",
       "\n",
       "    .dataframe tbody tr th {\n",
       "        vertical-align: top;\n",
       "    }\n",
       "\n",
       "    .dataframe thead th {\n",
       "        text-align: right;\n",
       "    }\n",
       "</style>\n",
       "<table border=\"1\" class=\"dataframe\">\n",
       "  <thead>\n",
       "    <tr style=\"text-align: right;\">\n",
       "      <th></th>\n",
       "      <th>Rollno</th>\n",
       "      <th>Marks</th>\n",
       "    </tr>\n",
       "  </thead>\n",
       "  <tbody>\n",
       "    <tr>\n",
       "      <th>0</th>\n",
       "      <td>1</td>\n",
       "      <td>23</td>\n",
       "    </tr>\n",
       "    <tr>\n",
       "      <th>1</th>\n",
       "      <td>2</td>\n",
       "      <td>45</td>\n",
       "    </tr>\n",
       "    <tr>\n",
       "      <th>2</th>\n",
       "      <td>3</td>\n",
       "      <td>67</td>\n",
       "    </tr>\n",
       "    <tr>\n",
       "      <th>3</th>\n",
       "      <td>4</td>\n",
       "      <td>89</td>\n",
       "    </tr>\n",
       "    <tr>\n",
       "      <th>4</th>\n",
       "      <td>5</td>\n",
       "      <td>56</td>\n",
       "    </tr>\n",
       "  </tbody>\n",
       "</table>\n",
       "</div>"
      ],
      "text/plain": [
       "   Rollno  Marks\n",
       "0       1     23\n",
       "1       2     45\n",
       "2       3     67\n",
       "3       4     89\n",
       "4       5     56"
      ]
     },
     "execution_count": 188,
     "metadata": {},
     "output_type": "execute_result"
    }
   ],
   "source": [
    "import pandas as pd\n",
    "rollno=[1,2,3,4,5,6,7,8,9]\n",
    "marks=[23,45,67,89,56,34,21,45,67]\n",
    "sample_df=pd.DataFrame({'Rollno':rollno,'Marks':marks})\n",
    "sample_df.head()"
   ]
  },
  {
   "cell_type": "code",
   "execution_count": 198,
   "metadata": {},
   "outputs": [
    {
     "data": {
      "text/plain": [
       "Text(0.5, 1.0, 'Rollno verses Marks')"
      ]
     },
     "execution_count": 198,
     "metadata": {},
     "output_type": "execute_result"
    },
    {
     "data": {
      "image/png": "[encoded data removed]",
      "text/plain": [
       "<Figure size 640x480 with 1 Axes>"
      ]
     },
     "metadata": {},
     "output_type": "display_data"
    }
   ],
   "source": [
    "import seaborn as sns\n",
    "sns.lineplot(x=sample_df.Rollno,y=sample_df.Marks)\n",
    "plt.title(\"Rollno verses Marks\")\n"
   ]
  },
  {
   "cell_type": "code",
   "execution_count": 196,
   "metadata": {},
   "outputs": [
    {
     "data": {
      "text/plain": [
       "<matplotlib.legend.Legend at 0x3d17714700>"
      ]
     },
     "execution_count": 196,
     "metadata": {},
     "output_type": "execute_result"
    },
    {
     "data": {
      "image/png": "[encoded data removed]",
      "text/plain": [
       "<Figure size 640x480 with 1 Axes>"
      ]
     },
     "metadata": {},
     "output_type": "display_data"
    }
   ],
   "source": [
    "x=np.arange(0,1500,100)\n",
    "plt.plot(np.sin(x),c='r',label=\"Sine function\")\n",
    "plt.legend(loc='upper right')\n",
    "plt.plot(np.cos(x),label=\"Cos function\")\n",
    "plt.legend(loc='upper right')"
   ]
  },
  {
   "cell_type": "code",
   "execution_count": 200,
   "metadata": {},
   "outputs": [
    {
     "ename": "ValueError",
     "evalue": "Could not interpret input 'FuelType'",
     "output_type": "error",
     "traceback": [
      "\u001b[1;31m---------------------------------------------------------------------------\u001b[0m",
      "\u001b[1;31mValueError\u001b[0m                                Traceback (most recent call last)",
      "Cell \u001b[1;32mIn[200], line 3\u001b[0m\n\u001b[0;32m      1\u001b[0m df\u001b[39m=\u001b[39m df\u001b[39m.\u001b[39mdropna()\n\u001b[0;32m      2\u001b[0m df\u001b[39m.\u001b[39mhead()\n\u001b[1;32m----> 3\u001b[0m sns\u001b[39m.\u001b[39;49mboxplot(x\u001b[39m=\u001b[39;49m\u001b[39m'\u001b[39;49m\u001b[39mFuelType\u001b[39;49m\u001b[39m'\u001b[39;49m,y\u001b[39m=\u001b[39;49m\u001b[39m'\u001b[39;49m\u001b[39mKM\u001b[39;49m\u001b[39m'\u001b[39;49m)\n",
      "File \u001b[1;32mc:\\Users\\Amardeep\\AppData\\Local\\Programs\\Python\\Python38\\lib\\site-packages\\seaborn\\_decorators.py:46\u001b[0m, in \u001b[0;36m_deprecate_positional_args.<locals>.inner_f\u001b[1;34m(*args, **kwargs)\u001b[0m\n\u001b[0;32m     36\u001b[0m     warnings\u001b[39m.\u001b[39mwarn(\n\u001b[0;32m     37\u001b[0m         \u001b[39m\"\u001b[39m\u001b[39mPass the following variable\u001b[39m\u001b[39m{}\u001b[39;00m\u001b[39m as \u001b[39m\u001b[39m{}\u001b[39;00m\u001b[39mkeyword arg\u001b[39m\u001b[39m{}\u001b[39;00m\u001b[39m: \u001b[39m\u001b[39m{}\u001b[39;00m\u001b[39m. \u001b[39m\u001b[39m\"\u001b[39m\n\u001b[0;32m     38\u001b[0m         \u001b[39m\"\u001b[39m\u001b[39mFrom version 0.12, the only valid positional argument \u001b[39m\u001b[39m\"\u001b[39m\n\u001b[1;32m   (...)\u001b[0m\n\u001b[0;32m     43\u001b[0m         \u001b[39mFutureWarning\u001b[39;00m\n\u001b[0;32m     44\u001b[0m     )\n\u001b[0;32m     45\u001b[0m kwargs\u001b[39m.\u001b[39mupdate({k: arg \u001b[39mfor\u001b[39;00m k, arg \u001b[39min\u001b[39;00m \u001b[39mzip\u001b[39m(sig\u001b[39m.\u001b[39mparameters, args)})\n\u001b[1;32m---> 46\u001b[0m \u001b[39mreturn\u001b[39;00m f(\u001b[39m*\u001b[39;49m\u001b[39m*\u001b[39;49mkwargs)\n",
      "File \u001b[1;32mc:\\Users\\Amardeep\\AppData\\Local\\Programs\\Python\\Python38\\lib\\site-packages\\seaborn\\categorical.py:2240\u001b[0m, in \u001b[0;36mboxplot\u001b[1;34m(x, y, hue, data, order, hue_order, orient, color, palette, saturation, width, dodge, fliersize, linewidth, whis, ax, **kwargs)\u001b[0m\n\u001b[0;32m   2228\u001b[0m \u001b[39m@_deprecate_positional_args\u001b[39m\n\u001b[0;32m   2229\u001b[0m \u001b[39mdef\u001b[39;00m \u001b[39mboxplot\u001b[39m(\n\u001b[0;32m   2230\u001b[0m     \u001b[39m*\u001b[39m,\n\u001b[1;32m   (...)\u001b[0m\n\u001b[0;32m   2237\u001b[0m     \u001b[39m*\u001b[39m\u001b[39m*\u001b[39mkwargs\n\u001b[0;32m   2238\u001b[0m ):\n\u001b[1;32m-> 2240\u001b[0m     plotter \u001b[39m=\u001b[39m _BoxPlotter(x, y, hue, data, order, hue_order,\n\u001b[0;32m   2241\u001b[0m                           orient, color, palette, saturation,\n\u001b[0;32m   2242\u001b[0m                           width, dodge, fliersize, linewidth)\n\u001b[0;32m   2244\u001b[0m     \u001b[39mif\u001b[39;00m ax \u001b[39mis\u001b[39;00m \u001b[39mNone\u001b[39;00m:\n\u001b[0;32m   2245\u001b[0m         ax \u001b[39m=\u001b[39m plt\u001b[39m.\u001b[39mgca()\n",
      "File \u001b[1;32mc:\\Users\\Amardeep\\AppData\\Local\\Programs\\Python\\Python38\\lib\\site-packages\\seaborn\\categorical.py:406\u001b[0m, in \u001b[0;36m_BoxPlotter.__init__\u001b[1;34m(self, x, y, hue, data, order, hue_order, orient, color, palette, saturation, width, dodge, fliersize, linewidth)\u001b[0m\n\u001b[0;32m    402\u001b[0m \u001b[39mdef\u001b[39;00m \u001b[39m__init__\u001b[39m(\u001b[39mself\u001b[39m, x, y, hue, data, order, hue_order,\n\u001b[0;32m    403\u001b[0m              orient, color, palette, saturation,\n\u001b[0;32m    404\u001b[0m              width, dodge, fliersize, linewidth):\n\u001b[1;32m--> 406\u001b[0m     \u001b[39mself\u001b[39;49m\u001b[39m.\u001b[39;49mestablish_variables(x, y, hue, data, orient, order, hue_order)\n\u001b[0;32m    407\u001b[0m     \u001b[39mself\u001b[39m\u001b[39m.\u001b[39mestablish_colors(color, palette, saturation)\n\u001b[0;32m    409\u001b[0m     \u001b[39mself\u001b[39m\u001b[39m.\u001b[39mdodge \u001b[39m=\u001b[39m dodge\n",
      "File \u001b[1;32mc:\\Users\\Amardeep\\AppData\\Local\\Programs\\Python\\Python38\\lib\\site-packages\\seaborn\\categorical.py:153\u001b[0m, in \u001b[0;36m_CategoricalPlotter.establish_variables\u001b[1;34m(self, x, y, hue, data, orient, order, hue_order, units)\u001b[0m\n\u001b[0;32m    151\u001b[0m     \u001b[39mif\u001b[39;00m \u001b[39misinstance\u001b[39m(var, \u001b[39mstr\u001b[39m):\n\u001b[0;32m    152\u001b[0m         err \u001b[39m=\u001b[39m \u001b[39m\"\u001b[39m\u001b[39mCould not interpret input \u001b[39m\u001b[39m'\u001b[39m\u001b[39m{}\u001b[39;00m\u001b[39m'\u001b[39m\u001b[39m\"\u001b[39m\u001b[39m.\u001b[39mformat(var)\n\u001b[1;32m--> 153\u001b[0m         \u001b[39mraise\u001b[39;00m \u001b[39mValueError\u001b[39;00m(err)\n\u001b[0;32m    155\u001b[0m \u001b[39m# Figure out the plotting orientation\u001b[39;00m\n\u001b[0;32m    156\u001b[0m orient \u001b[39m=\u001b[39m infer_orient(\n\u001b[0;32m    157\u001b[0m     x, y, orient, require_numeric\u001b[39m=\u001b[39m\u001b[39mself\u001b[39m\u001b[39m.\u001b[39mrequire_numeric\n\u001b[0;32m    158\u001b[0m )\n",
      "\u001b[1;31mValueError\u001b[0m: Could not interpret input 'FuelType'"
     ]
    }
   ],
   "source": [
    "df= df.dropna()\n",
    "df.head()\n",
    "sns.boxplot(x='FuelType',y='KM')"
   ]
  }
 ],
 "metadata": {
  "kernelspec": {
   "display_name": "Python 3",
   "language": "python",
   "name": "python3"
  },
  "language_info": {
   "codemirror_mode": {
    "name": "ipython",
    "version": 3
   },
   "file_extension": ".py",
   "mimetype": "text/x-python",
   "name": "python",
   "nbconvert_exporter": "python",
   "pygments_lexer": "ipython3",
   "version": "3.8.2"
  },
  "orig_nbformat": 4
 },
 "nbformat": 4,
 "nbformat_minor": 2
}
