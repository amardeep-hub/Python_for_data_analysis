{
 "cells": [
  {
   "cell_type": "code",
   "execution_count": 2,
   "metadata": {},
   "outputs": [
    {
     "name": "stdout",
     "output_type": "stream",
     "text": [
      "7\n"
     ]
    }
   ],
   "source": [
    "x = 3\n",
    "y = 4\n",
    "print(x+y)"
   ]
  },
  {
   "cell_type": "code",
   "execution_count": 1,
   "metadata": {},
   "outputs": [],
   "source": [
    "import pandas as pd"
   ]
  },
  {
   "attachments": {},
   "cell_type": "markdown",
   "metadata": {},
   "source": [
    "Numpy\n",
    "First created by Jim Hugunin   \n",
    "only similar type of data we store in array.   \n",
    "array is 50x faster than python list"
   ]
  },
  {
   "cell_type": "code",
   "execution_count": 14,
   "metadata": {},
   "outputs": [
    {
     "name": "stdout",
     "output_type": "stream",
     "text": [
      "[1 2 3 4 5]\n",
      "Second array [1. 2. 3. 4. 5.]\n",
      "print the type of array\n",
      " <class 'numpy.ndarray'>\n",
      "two dimentiaonl array:\n",
      " [[1. 2. 3.]\n",
      " [4. 5. 6.]]\n",
      "first element of first column\n",
      " 1.0\n",
      "second element of first column:\n",
      " 2.0\n",
      "5.0\n"
     ]
    }
   ],
   "source": [
    "import numpy as np \n",
    "arr = np.array([1,2,3,4,5])\n",
    "print(arr)\n",
    "arr2 = np.array([1,2,3,4,5],float) # type of each number inside of the list given by second argument.\n",
    "print(\"Second array\",arr2)\n",
    "print(\"print the type of array\\n\",type(arr))\n",
    "##array can be multidimentional\n",
    "arr2=np.array([[1,2,3],[4,5,6]],float)\n",
    "print(\"two dimentiaonl array:\\n\",arr2)\n",
    "print(\"first element of first column\\n\",arr2[0,0])\n",
    "print(\"second element of first column:\\n\",arr2[0,1]) #element of frst row and second column\n",
    "print(arr2[1,1]) #element of second row and second column\n",
    "print(arr2[1,2]) #element of second row and third column "
   ]
  },
  {
   "cell_type": "code",
   "execution_count": 23,
   "metadata": {},
   "outputs": [
    {
     "name": "stdout",
     "output_type": "stream",
     "text": [
      "[1. 4.]\n",
      "[7.5]\n",
      "[7.5]\n",
      "[7.5]\n",
      "[7.5]\n",
      "[1. 4. 5.]\n"
     ]
    }
   ],
   "source": [
    "##Array elements are accessed, sliced and manipulated just like list.\n",
    "a = np.array([1,4,5,7.5],float)\n",
    "print(a[:2]) # slicing first two elments of array.\n",
    "print(a[3:]) # slicing last element of array\n",
    "print(a[-1:]) # slicing last element\n",
    "print(a[3:5])\n",
    "print(a[3:4])"
   ]
  },
  {
   "cell_type": "code",
   "execution_count": 84,
   "metadata": {},
   "outputs": [
    {
     "name": "stdout",
     "output_type": "stream",
     "text": [
      "[[1 2 3]\n",
      " [4 5 6]\n",
      " [7 8 9]]\n",
      "9\n",
      "[1 2 3]\n",
      "[[1 2 3]]\n",
      "[[1 2 3]\n",
      " [4 5 6]]\n",
      "columns\n",
      "[3 6 9]\n",
      "[[2 3]\n",
      " [5 6]\n",
      " [8 9]]\n",
      "Shape of the matrix\n",
      " (3, 3)\n",
      "data type of the matrix int32\n"
     ]
    }
   ],
   "source": [
    "b = np.array([[1,2,3],[4,5,6],[7,8,9]]) # we give list as rows of array\n",
    "print(b)\n",
    "###slicing\n",
    "print(b[2,2]) # element third row and third column\n",
    "print(b[0]) # printing frist row to the 2D matrix\n",
    "print(b[:1])\n",
    "print(b[:2])\n",
    "print(\"columns\")\n",
    "print(b[:,2])\n",
    "print(b[:,[1,2]])\n",
    "print(\"Shape of the matrix\\n\",b.shape)\n",
    "print(\"data type of the matrix\",b.dtype)"
   ]
  },
  {
   "cell_type": "code",
   "execution_count": 79,
   "metadata": {},
   "outputs": [
    {
     "name": "stdout",
     "output_type": "stream",
     "text": [
      "[0 1 2 3 4 5 6 7 8 9]\n",
      "(10,)\n",
      "[[0 1]\n",
      " [2 3]\n",
      " [4 5]\n",
      " [6 7]\n",
      " [8 9]]\n",
      "after reshaping to two dimention the shape is: (5, 2)\n"
     ]
    }
   ],
   "source": [
    "# find an element in array\n",
    "100 in b\n",
    "c= np.array(range(10)) #one dimentional array using range\n",
    "print(c)\n",
    "print(c.shape)\n",
    "#convert one dimention to two dimention array\n",
    "c = c.reshape((5,2)) #using reshape function covert one dimention to two dimention.\n",
    "print(c)\n",
    "print(\"after reshaping to two dimention the shape is:\",c.shape)"
   ]
  },
  {
   "cell_type": "code",
   "execution_count": 87,
   "metadata": {},
   "outputs": [
    {
     "name": "stdout",
     "output_type": "stream",
     "text": [
      "[4. 5. 6.]\n",
      "[4. 5. 6.]\n",
      "[4. 5. 6.]\n",
      "[1. 5. 6.]\n",
      "[1. 5. 6.]\n",
      "[4. 5. 6.]\n"
     ]
    }
   ],
   "source": [
    "a = np.array([4,5,6],float)\n",
    "b = a \n",
    "c = a.copy() # copying before change of first element.\n",
    "print(a)\n",
    "print(b)\n",
    "print(c)\n",
    "a[0]=1\n",
    "print(a)\n",
    "print(b)\n",
    "print(c)"
   ]
  },
  {
   "cell_type": "code",
   "execution_count": 89,
   "metadata": {},
   "outputs": [
    {
     "name": "stdout",
     "output_type": "stream",
     "text": [
      "[10. 20. 30.]\n",
      "[10.0, 20.0, 30.0]\n"
     ]
    }
   ],
   "source": [
    "## Create a list from arra\n",
    "a =np.array([10,20,30],float)\n",
    "print(a)\n",
    "a =a.tolist() # convert array to list\n",
    "print(a) # list is comma seperated"
   ]
  },
  {
   "cell_type": "code",
   "execution_count": 92,
   "metadata": {},
   "outputs": [
    {
     "name": "stdout",
     "output_type": "stream",
     "text": [
      "[10. 20. 30.]\n",
      "b'\\x00\\x00\\x00\\x00\\x00\\x00$@\\x00\\x00\\x00\\x00\\x00\\x004@\\x00\\x00\\x00\\x00\\x00\\x00>@'\n",
      "[10. 20. 30.]\n"
     ]
    }
   ],
   "source": [
    "#convert raw dat into binary\n",
    "a =np.array([10,20,30],float)\n",
    "print(a)\n",
    "b= a.tostring() #convert to string\n",
    "print(b)\n",
    "c=np.frombuffer(b) #what is frombuffer? taking binary to convert to numbers\n",
    "print(c)"
   ]
  },
  {
   "cell_type": "code",
   "execution_count": 95,
   "metadata": {},
   "outputs": [
    {
     "name": "stdout",
     "output_type": "stream",
     "text": [
      "[[10 20 30 40]\n",
      " [40 50 60 70]]\n",
      "[[10 40]\n",
      " [20 50]\n",
      " [30 60]\n",
      " [40 70]]\n"
     ]
    }
   ],
   "source": [
    "##Transpose of the matrix\n",
    "a = np.array([[10,20,30,40],[40,50,60,70]])\n",
    "print(a) ##matrix shape 2 X 4\n",
    "c = a.transpose()\n",
    "print(c) ## matrix shape 4 X 2"
   ]
  },
  {
   "cell_type": "code",
   "execution_count": 96,
   "metadata": {},
   "outputs": [
    {
     "name": "stdout",
     "output_type": "stream",
     "text": [
      "[[10 20 30 40]\n",
      " [40 50 60 70]]\n",
      "[10 20 30 40 40 50 60 70]\n"
     ]
    }
   ],
   "source": [
    "##matrix \n",
    "a = np.array([[10,20,30,40],[40,50,60,70]])\n",
    "print(a)\n",
    "b = a.flatten()\n",
    "print(b) # flatten converts two dimention to one"
   ]
  },
  {
   "cell_type": "code",
   "execution_count": 100,
   "metadata": {},
   "outputs": [
    {
     "data": {
      "text/plain": [
       "array([[1., 1., 1.],\n",
       "       [1., 1., 1.]])"
      ]
     },
     "execution_count": 100,
     "metadata": {},
     "output_type": "execute_result"
    }
   ],
   "source": [
    "# others ways of creating arrays\n",
    "np.arange(6,dtype=int)\n",
    "#zeros and ones\n",
    "np.zeros(10,dtype=float)\n",
    "np.ones((2,3),dtype=float)"
   ]
  },
  {
   "cell_type": "code",
   "execution_count": 103,
   "metadata": {},
   "outputs": [
    {
     "data": {
      "text/plain": [
       "array([[0., 0., 0.],\n",
       "       [0., 0., 0.]])"
      ]
     },
     "execution_count": 103,
     "metadata": {},
     "output_type": "execute_result"
    }
   ],
   "source": [
    "a = np.array([[1,2,3],[2,3,4]],float)\n",
    "np.ones_like(a)\n",
    "np.zeros_like(a)"
   ]
  },
  {
   "cell_type": "code",
   "execution_count": 104,
   "metadata": {},
   "outputs": [
    {
     "data": {
      "text/plain": [
       "array([[1, 0, 0, 0],\n",
       "       [0, 1, 0, 0],\n",
       "       [0, 0, 1, 0],\n",
       "       [0, 0, 0, 1]])"
      ]
     },
     "execution_count": 104,
     "metadata": {},
     "output_type": "execute_result"
    }
   ],
   "source": [
    "##identity matrix is square matrix having diagonals equal to one\n",
    "np.identity(4,dtype=int)"
   ]
  },
  {
   "cell_type": "code",
   "execution_count": 109,
   "metadata": {},
   "outputs": [
    {
     "data": {
      "text/plain": [
       "array([[0, 0, 1, 0, 0, 0],\n",
       "       [0, 0, 0, 1, 0, 0],\n",
       "       [0, 0, 0, 0, 1, 0],\n",
       "       [0, 0, 0, 0, 0, 1],\n",
       "       [0, 0, 0, 0, 0, 0],\n",
       "       [0, 0, 0, 0, 0, 0]])"
      ]
     },
     "execution_count": 109,
     "metadata": {},
     "output_type": "execute_result"
    }
   ],
   "source": [
    "np.eye(4,k=2,dtype=int)\n",
    "np.eye(4,k=-2,dtype=int)\n",
    "np.eye(6,k=2,dtype=int)"
   ]
  },
  {
   "cell_type": "code",
   "execution_count": 116,
   "metadata": {},
   "outputs": [
    {
     "data": {
      "text/plain": [
       "array([ 5, 12, 21])"
      ]
     },
     "execution_count": 116,
     "metadata": {},
     "output_type": "execute_result"
    }
   ],
   "source": [
    "##array arithmetic\n",
    "a=np.array([1,2,3]) #individual elements of one dimentional array\n",
    "b=np.array([5,6,7])\n",
    "pirnt(a+b)\n",
    "print(b-a)\n",
    "print(a*b)\n"
   ]
  }
 ],
 "metadata": {
  "kernelspec": {
   "display_name": "Python 3",
   "language": "python",
   "name": "python3"
  },
  "language_info": {
   "codemirror_mode": {
    "name": "ipython",
    "version": 3
   },
   "file_extension": ".py",
   "mimetype": "text/x-python",
   "name": "python",
   "nbconvert_exporter": "python",
   "pygments_lexer": "ipython3",
   "version": "3.8.2"
  },
  "orig_nbformat": 4
 },
 "nbformat": 4,
 "nbformat_minor": 2
}
